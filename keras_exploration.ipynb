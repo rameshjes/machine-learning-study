{
 "cells": [
  {
   "cell_type": "markdown",
   "metadata": {},
   "source": [
    "In the notebook, learned about:\n",
    "\n",
    "    i. Visualization of trained model on Keras using Tensor Board \n",
    "    \n",
    "    ii. Visualizing output of intermediate keras layers"
   ]
  },
  {
   "cell_type": "code",
   "execution_count": 48,
   "metadata": {
    "collapsed": true
   },
   "outputs": [],
   "source": [
    "import keras\n",
    "from keras.datasets import mnist\n",
    "\n",
    "from keras.models import Sequential\n",
    "from keras.layers import *\n",
    "#utilities help us transform our data later\n",
    "from keras.utils import * \n",
    "import matplotlib.pyplot as plt\n",
    "from keras.callbacks import EarlyStopping, ModelCheckpoint, CSVLogger, TensorBoard\n",
    "import os\n",
    "import tensorflow as tf\n",
    "from keras.models import load_model\n",
    "from keras.models import Model\n",
    "import cv2\n",
    "%matplotlib inline"
   ]
  },
  {
   "cell_type": "code",
   "execution_count": 17,
   "metadata": {
    "collapsed": true
   },
   "outputs": [],
   "source": [
    "\n",
    "class TrainMnistDataSetDense:\n",
    "\n",
    "    def __init__(self):\n",
    "\n",
    "        self.image_height = 28\n",
    "        self.image_width = 28\n",
    "        self.image_depth = 1\n",
    "    \n",
    "    def preProcess(self, x_train, y_train, x_test, y_test):\n",
    "\n",
    "        x_train = x_train.reshape(x_train.shape[0], 28*28)\n",
    "        x_test = x_test.reshape(x_test.shape[0], 28*28)\n",
    "\n",
    "        # Convert data type and normalise values\n",
    "\n",
    "        x_train = x_train.astype('float32')\n",
    "        x_test = x_test.astype('float32')\n",
    "\n",
    "\n",
    "        x_train /= 255\n",
    "        x_test /= 255 \n",
    "\n",
    "        # Convert 1-dimensional class arrays to 10-dimensional class matrices\n",
    "\n",
    "        y_train = np_utils.to_categorical(y_train,10)\n",
    "        y_test = np_utils.to_categorical(y_test,10)\n",
    "\n",
    "        return x_train, y_train, x_test, y_test\n",
    "    \n",
    "    \n",
    "    def ModelDense(self, input_shape, num_classes):\n",
    "        \n",
    "        model = Sequential()\n",
    "        model.add(Dense(512, input_shape=(input_shape,)))\n",
    "        model.add(Activation('relu'))\n",
    "        \n",
    "        model.add(Dense(512))\n",
    "        model.add(Activation('relu'))\n",
    "        \n",
    "        model.add(Dense(num_classes))\n",
    "        model.add(Activation('softmax'))\n",
    "        \n",
    "        return model\n",
    "\n",
    " \n"
   ]
  },
  {
   "cell_type": "code",
   "execution_count": 18,
   "metadata": {
    "collapsed": true
   },
   "outputs": [],
   "source": [
    "class TrainValTensorBoard(TensorBoard):\n",
    "    def __init__(self, log_dir='./logs', **kwargs):\n",
    "        # Make the original `TensorBoard` log to a subdirectory 'training'\n",
    "        training_log_dir = os.path.join(log_dir, 'training')\n",
    "        super(TrainValTensorBoard, self).__init__(training_log_dir, **kwargs)\n",
    "\n",
    "        # Log the validation metrics to a separate subdirectory\n",
    "        self.val_log_dir = os.path.join(log_dir, 'validation')\n",
    "\n",
    "    def set_model(self, model):\n",
    "        # Setup writer for validation metrics\n",
    "        self.val_writer = tf.summary.FileWriter(self.val_log_dir)\n",
    "        super(TrainValTensorBoard, self).set_model(model)\n",
    "\n",
    "    def on_epoch_end(self, epoch, logs=None):\n",
    "        # Pop the validation logs and handle them separately with\n",
    "        # `self.val_writer`. Also rename the keys so that they can\n",
    "        # be plotted on the same figure with the training metrics\n",
    "        logs = logs or {}\n",
    "        val_logs = {k.replace('val_', ''): v for k, v in logs.items() if k.startswith('val_')}\n",
    "        for name, value in val_logs.items():\n",
    "            summary = tf.Summary()\n",
    "            summary_value = summary.value.add()\n",
    "            summary_value.simple_value = value.item()\n",
    "            summary_value.tag = name\n",
    "            self.val_writer.add_summary(summary, epoch)\n",
    "        self.val_writer.flush()\n",
    "\n",
    "        # Pass the remaining logs to `TensorBoard.on_epoch_end`\n",
    "        logs = {k: v for k, v in logs.items() if not k.startswith('val_')}\n",
    "        super(TrainValTensorBoard, self).on_epoch_end(epoch, logs)\n",
    "\n",
    "    def on_train_end(self, logs=None):\n",
    "        super(TrainValTensorBoard, self).on_train_end(logs)\n",
    "        self.val_writer.close()"
   ]
  },
  {
   "cell_type": "markdown",
   "metadata": {},
   "source": [
    "# Model Dense"
   ]
  },
  {
   "cell_type": "code",
   "execution_count": 19,
   "metadata": {},
   "outputs": [
    {
     "name": "stdout",
     "output_type": "stream",
     "text": [
      "_________________________________________________________________\n",
      "Layer (type)                 Output Shape              Param #   \n",
      "=================================================================\n",
      "dense_4 (Dense)              (None, 512)               401920    \n",
      "_________________________________________________________________\n",
      "activation_4 (Activation)    (None, 512)               0         \n",
      "_________________________________________________________________\n",
      "dense_5 (Dense)              (None, 512)               262656    \n",
      "_________________________________________________________________\n",
      "activation_5 (Activation)    (None, 512)               0         \n",
      "_________________________________________________________________\n",
      "dense_6 (Dense)              (None, 10)                5130      \n",
      "_________________________________________________________________\n",
      "activation_6 (Activation)    (None, 10)                0         \n",
      "=================================================================\n",
      "Total params: 669,706\n",
      "Trainable params: 669,706\n",
      "Non-trainable params: 0\n",
      "_________________________________________________________________\n",
      "None\n",
      "Train on 60000 samples, validate on 10000 samples\n",
      "Epoch 1/1\n",
      "60000/60000 [==============================] - 54s 907us/step - loss: 0.1873 - acc: 0.9429 - val_loss: 0.0951 - val_acc: 0.9721\n"
     ]
    },
    {
     "data": {
      "text/plain": [
       "<keras.callbacks.History at 0x7f8e22a37950>"
      ]
     },
     "execution_count": 19,
     "metadata": {},
     "output_type": "execute_result"
    }
   ],
   "source": [
    "\n",
    "trainMnist = TrainMnistDataSetDense()\n",
    "(x_train, y_train), (x_test, y_test) =  mnist.load_data()\n",
    "X_train, Y_train, X_test, Y_test = trainMnist.preProcess(x_train, y_train, x_test, y_test)\n",
    "input_shape = 28*28\n",
    "# print \"X traing \", \n",
    "# print \"Y train \", Y_train.shape\n",
    "num_classes = 10\n",
    "nb_epoch = 1\n",
    "batch_size = 32\n",
    "\n",
    "# model = trainMnist.modelCNN(input_shape, num_classes)\n",
    "model = trainMnist.ModelDense(X_train.shape[1], num_classes\n",
    "                             )\n",
    "model_save_path = 'TrainedModelMnist.hdf5'\n",
    "\n",
    "model.compile(loss='categorical_crossentropy', optimizer='adadelta',metrics=['accuracy'])\n",
    "\n",
    "print(model.summary())\n",
    "\n",
    "csv_logger = CSVLogger('training.log')\n",
    "\n",
    "early_stop = EarlyStopping('val_acc', patience=200, verbose=1)\n",
    "model_checkpoint = ModelCheckpoint(model_save_path,\n",
    "                                    'val_acc', verbose=0,\n",
    "                                    save_best_only=True)\n",
    "\n",
    "# tbCallBack = TensorBoard(log_dir='./Graph', histogram_freq=0, write_graph=True, write_images=True)\n",
    "model_callbacks = [early_stop, model_checkpoint, csv_logger, TrainValTensorBoard(write_graph=True)]\n",
    "\n",
    "\n",
    "# K.get_session().run(tf.global_variables_initializer())\n",
    "\n",
    "model.fit(X_train,Y_train,batch_size,nb_epoch, verbose=1,validation_data=(X_test,Y_test),callbacks = model_callbacks)"
   ]
  },
  {
   "cell_type": "code",
   "execution_count": 20,
   "metadata": {},
   "outputs": [
    {
     "name": "stdout",
     "output_type": "stream",
     "text": [
      "10000/10000 [==============================] - 1s 109us/step\n",
      "Loss  0.09510410597138107\n",
      "Accuracy  0.9721\n"
     ]
    }
   ],
   "source": [
    "result = model.evaluate(X_test, Y_test)\n",
    "print \"Loss \", result[0]\n",
    "print \"Accuracy \", result[1]"
   ]
  },
  {
   "cell_type": "markdown",
   "metadata": {
    "collapsed": true
   },
   "source": [
    "# Model CNN"
   ]
  },
  {
   "cell_type": "code",
   "execution_count": 2,
   "metadata": {
    "collapsed": true
   },
   "outputs": [],
   "source": [
    "\n",
    "class TrainMnistDataSetCNN:\n",
    "\n",
    "    def __init__(self):\n",
    "\n",
    "        self.image_height = 28\n",
    "        self.image_width = 28\n",
    "        self.image_depth = 1\n",
    "    \n",
    "    def preProcessData(self, x_train, y_train, x_test, y_test):\n",
    "\n",
    "        x_train = x_train.reshape(x_train.shape[0], self.image_height, self.image_width, self.image_depth)\n",
    "        x_test = x_test.reshape(x_test.shape[0], self.image_height, self.image_width, self.image_depth)\n",
    "\n",
    "        # Convert data type and normalise values\n",
    "\n",
    "        x_train = x_train.astype('float32')\n",
    "        x_test = x_test.astype('float32')\n",
    "\n",
    "\n",
    "        x_train /= 255\n",
    "        x_test /= 255 \n",
    "\n",
    "        # Convert 1-dimensional class arrays to 10-dimensional class matrices\n",
    "\n",
    "        y_train = np_utils.to_categorical(y_train,10)\n",
    "        y_test = np_utils.to_categorical(y_test,10)\n",
    "\n",
    "        return x_train, y_train, x_test, y_test\n",
    "    \n",
    "\n",
    "    def modelCNN(self, input_shape, number_of_classes):\n",
    "\n",
    "        model = Sequential()\n",
    "\n",
    "        model.add(Conv2D(64, (5, 5),  input_shape=(28,28,1)))\n",
    "        model.add(PReLU())\n",
    "        model.add(MaxPooling2D(pool_size=(3, 3)))\n",
    "    \n",
    "        #To connect the output of the \n",
    "        #pooling layer to the fully connected layer, we need to flatten this output into a single (N x 1) tensor.\n",
    "        # Because dense layer always accepts array of vectors so flattening is necessary\n",
    "        model.add(Flatten())\n",
    "        model.add(Dense(128))\n",
    "        model.add(Activation('relu'))\n",
    "        model.add(Dropout(0.5))\n",
    "        model.add(Dense(num_classes))\n",
    "        model.add(Activation('softmax'))\n",
    "\n",
    "        return model\n"
   ]
  },
  {
   "cell_type": "markdown",
   "metadata": {
    "collapsed": true
   },
   "source": [
    "\n",
    "# Notes: \n",
    "\n",
    "modelCNN always takes input shape in the form of (width, height, channels)\n",
    "\n",
    "\n",
    "model.fit always take X_train and X_test shape as (n_images, width, height, channels)\n",
    "\n",
    "Do not forget to flatten the output of convolution/pooling layer before applying dense layer"
   ]
  },
  {
   "cell_type": "code",
   "execution_count": 3,
   "metadata": {},
   "outputs": [
    {
     "name": "stdout",
     "output_type": "stream",
     "text": [
      "X traing  (60000, 28, 28, 1)\n",
      "Y train  (60000, 10)\n",
      "[0. 0. 0. 0. 0. 1. 0. 0. 0. 0.]\n",
      "X Test  (10000, 28, 28, 1)\n",
      "Y Test  (10000, 10)\n",
      "_________________________________________________________________\n",
      "Layer (type)                 Output Shape              Param #   \n",
      "=================================================================\n",
      "conv2d_1 (Conv2D)            (None, 24, 24, 64)        1664      \n",
      "_________________________________________________________________\n",
      "p_re_lu_1 (PReLU)            (None, 24, 24, 64)        36864     \n",
      "_________________________________________________________________\n",
      "max_pooling2d_1 (MaxPooling2 (None, 8, 8, 64)          0         \n",
      "_________________________________________________________________\n",
      "flatten_1 (Flatten)          (None, 4096)              0         \n",
      "_________________________________________________________________\n",
      "dense_1 (Dense)              (None, 128)               524416    \n",
      "_________________________________________________________________\n",
      "activation_1 (Activation)    (None, 128)               0         \n",
      "_________________________________________________________________\n",
      "dropout_1 (Dropout)          (None, 128)               0         \n",
      "_________________________________________________________________\n",
      "dense_2 (Dense)              (None, 10)                1290      \n",
      "_________________________________________________________________\n",
      "activation_2 (Activation)    (None, 10)                0         \n",
      "=================================================================\n",
      "Total params: 564,234\n",
      "Trainable params: 564,234\n",
      "Non-trainable params: 0\n",
      "_________________________________________________________________\n",
      "None\n",
      "Train on 60000 samples, validate on 10000 samples\n",
      "Epoch 1/1\n",
      "60000/60000 [==============================] - 129s 2ms/step - loss: 0.2468 - acc: 0.9244 - val_loss: 0.0538 - val_acc: 0.9822\n"
     ]
    },
    {
     "data": {
      "text/plain": [
       "<keras.callbacks.History at 0x7f0a6615f090>"
      ]
     },
     "execution_count": 3,
     "metadata": {},
     "output_type": "execute_result"
    }
   ],
   "source": [
    "\n",
    "trainMnistCNN = TrainMnistDataSetCNN()\n",
    "(x_train, y_train), (x_test, y_test) =  mnist.load_data()\n",
    "X_train, Y_train, X_test, Y_test = trainMnistCNN.preProcessData(x_train, y_train, x_test, y_test)\n",
    "input_shape = (28,28,1)\n",
    "print \"X traing \", X_train.shape \n",
    "print \"Y train \", Y_train.shape\n",
    "print Y_train[0]\n",
    "print \"X Test \", X_test.shape\n",
    "print \"Y Test \", Y_test.shape\n",
    "num_classes = 10\n",
    "nb_epoch = 1\n",
    "batch_size = 64\n",
    "\n",
    "model = trainMnistCNN.modelCNN(input_shape, num_classes)\n",
    "# # model = trainMnist.ModelDense(X_train.shape[1], num_classes)\n",
    "                             \n",
    "model_save_path = 'TrainedModelMnist.hdf5'\n",
    "\n",
    "model.compile(loss='categorical_crossentropy', optimizer='adadelta',metrics=['accuracy'])\n",
    "\n",
    "print(model.summary())\n",
    "\n",
    "csv_logger = CSVLogger('training.log')\n",
    "\n",
    "early_stop = EarlyStopping('val_acc', patience=200, verbose=1)\n",
    "model_checkpoint = ModelCheckpoint(model_save_path,\n",
    "                                    'val_acc', verbose=0,\n",
    "                                    save_best_only=True)\n",
    "\n",
    "# # # tbCallBack = TensorBoard(log_dir='./Graph', histogram_freq=0, write_graph=True, write_images=True)\n",
    "\n",
    "# # model_callbacks = [early_stop, model_checkpoint, csv_logger, TrainValTensorBoard(write_graph=True)]\n",
    "model_callbacks = [early_stop, model_checkpoint, csv_logger]\n",
    "\n",
    "# # # K.get_session().run(tf.global_variables_initializer())\n",
    "\n",
    "model.fit(X_train,Y_train,batch_size,nb_epoch, verbose=1,validation_data=(X_test,Y_test),callbacks = model_callbacks)"
   ]
  },
  {
   "cell_type": "code",
   "execution_count": null,
   "metadata": {
    "collapsed": true
   },
   "outputs": [],
   "source": [
    "# Note: Flatten is necessary as it helps to connect output of pooling/convolution layer with Dense layer\n",
    "# If you don't flatten it, network will give you output dimension error"
   ]
  },
  {
   "cell_type": "markdown",
   "metadata": {},
   "source": [
    "## Predict from trained model"
   ]
  },
  {
   "cell_type": "code",
   "execution_count": 19,
   "metadata": {},
   "outputs": [
    {
     "name": "stdout",
     "output_type": "stream",
     "text": [
      "(28, 28, 1)\n",
      "(10000, 28, 28, 1)\n"
     ]
    },
    {
     "data": {
      "text/plain": [
       "array([7])"
      ]
     },
     "execution_count": 19,
     "metadata": {},
     "output_type": "execute_result"
    },
    {
     "data": {
      "image/png": "[encoded data removed]",
      "text/plain": [
       "<Figure size 432x288 with 1 Axes>"
      ]
     },
     "metadata": {},
     "output_type": "display_data"
    }
   ],
   "source": [
    "image1 = x_test[0]\n",
    "plt.imshow(image1)\n",
    "# model.predict()\n",
    "# print (type(X_test[0]))\n",
    "#reshape image to make it compatible with model \n",
    "i1 = X_test[0].reshape(1,28,28,1)\n",
    "print (X_test[0].shape)\n",
    "print (X_test.shape)\n",
    "model.predict_classes(i1)\n",
    "\n",
    "# get_3rd_layer_output = K.function([model.layers[0].input],\n",
    "#                                   [model.layers[0].output])\n",
    "# layer_output = get_3rd_layer_output([i1])[0]\n",
    "# print (layer_output.shape)\n",
    "# plt.imshow(layer_output)\n",
    "# print model.layers[2].output"
   ]
  },
  {
   "cell_type": "markdown",
   "metadata": {},
   "source": [
    "# Keras output of intermediate layers \n",
    "\n",
    "First we train the model and then plot the visualization of intermediate/first layer of keras\n",
    "\n",
    "** Note: It is not necessary to train and visualize the output of layers. We can also determine the visualization before training the model"
   ]
  },
  {
   "cell_type": "code",
   "execution_count": 40,
   "metadata": {
    "collapsed": true
   },
   "outputs": [],
   "source": [
    "class newModelCNN: \n",
    "    \n",
    "    \n",
    "    def modelCNN(self, input_shape, number_of_classes):\n",
    "\n",
    "        model = Sequential()\n",
    "\n",
    "        model.add(Conv2D(3, (5, 5),  input_shape=(28,28,1)))\n",
    "        model.add(Flatten())\n",
    "        model.add(Dense(128))\n",
    "        model.add(Activation('relu'))\n",
    "        model.add(Dropout(0.5))\n",
    "        model.add(Dense(num_classes))\n",
    "        model.add(Activation('softmax'))\n",
    "\n",
    "        return model\n",
    "    \n",
    "    \n",
    "input_shape = (28,28,1)\n",
    "# print \"X traing \", X_train.shape \n",
    "# print \"Y train \", Y_train.shape\n",
    "# print Y_train[0]\n",
    "# print \"X Test \", X_test.shape\n",
    "# print \"Y Test \", Y_test.shape\n",
    "num_classes = 10\n",
    "nb_epoch = 1\n",
    "batch_size = 64\n",
    "\n",
    "cnn_n_model = newModelCNN()\n",
    "n_model = cnn_n_model.modelCNN(input_shape, num_classes)\n"
   ]
  },
  {
   "cell_type": "code",
   "execution_count": 41,
   "metadata": {},
   "outputs": [
    {
     "name": "stdout",
     "output_type": "stream",
     "text": [
      "_________________________________________________________________\n",
      "Layer (type)                 Output Shape              Param #   \n",
      "=================================================================\n",
      "conv2d_9 (Conv2D)            (None, 24, 24, 3)         78        \n",
      "_________________________________________________________________\n",
      "flatten_3 (Flatten)          (None, 1728)              0         \n",
      "_________________________________________________________________\n",
      "dense_5 (Dense)              (None, 128)               221312    \n",
      "_________________________________________________________________\n",
      "activation_5 (Activation)    (None, 128)               0         \n",
      "_________________________________________________________________\n",
      "dropout_3 (Dropout)          (None, 128)               0         \n",
      "_________________________________________________________________\n",
      "dense_6 (Dense)              (None, 10)                1290      \n",
      "_________________________________________________________________\n",
      "activation_6 (Activation)    (None, 10)                0         \n",
      "=================================================================\n",
      "Total params: 222,680\n",
      "Trainable params: 222,680\n",
      "Non-trainable params: 0\n",
      "_________________________________________________________________\n",
      "None\n",
      "Train on 60000 samples, validate on 10000 samples\n",
      "Epoch 1/1\n",
      "60000/60000 [==============================] - 37s 617us/step - loss: 0.3480 - acc: 0.8950 - val_loss: 0.1291 - val_acc: 0.9613\n"
     ]
    },
    {
     "data": {
      "text/plain": [
       "<keras.callbacks.History at 0x7f0a76081110>"
      ]
     },
     "execution_count": 41,
     "metadata": {},
     "output_type": "execute_result"
    }
   ],
   "source": [
    "model_save_path = 'n_modelCnn.hdf5'\n",
    "\n",
    "n_model.compile(loss='categorical_crossentropy', optimizer='adadelta',metrics=['accuracy'])\n",
    "\n",
    "print(n_model.summary())\n",
    "\n",
    "csv_logger = CSVLogger('training_n_model.log')\n",
    "\n",
    "early_stop = EarlyStopping('val_acc', patience=200, verbose=1)\n",
    "model_checkpoint = ModelCheckpoint(model_save_path,\n",
    "                                    'val_acc', verbose=0,\n",
    "                                    save_best_only=True)\n",
    "\n",
    "# # # tbCallBack = TensorBoard(log_dir='./Graph', histogram_freq=0, write_graph=True, write_images=True)\n",
    "\n",
    "# # model_callbacks = [early_stop, model_checkpoint, csv_logger, TrainValTensorBoard(write_graph=True)]\n",
    "model_callbacks = [early_stop, model_checkpoint, csv_logger]\n",
    "\n",
    "# # # K.get_session().run(tf.global_variables_initializer())\n",
    "\n",
    "n_model.fit(X_train,Y_train,batch_size,nb_epoch, verbose=1,validation_data=(X_test,Y_test),callbacks = model_callbacks)"
   ]
  },
  {
   "cell_type": "code",
   "execution_count": 45,
   "metadata": {},
   "outputs": [
    {
     "name": "stdout",
     "output_type": "stream",
     "text": [
      "test image shape  (28, 28, 1)\n",
      "image after ex\n",
      "('intermediate output shape ', (1, 24, 24, 3))\n",
      "(24, 24, 3)\n"
     ]
    },
    {
     "data": {
      "image/png": "[encoded data removed]",
      "text/plain": [
       "<Figure size 432x288 with 1 Axes>"
      ]
     },
     "metadata": {},
     "output_type": "display_data"
    }
   ],
   "source": [
    "# take test image and convert to compatible size\n",
    "new_im = x_test[0].reshape(28,28,1)\n",
    "print \"test image shape \", new_im.shape\n",
    "image_predic = np.expand_dims(new_im, axis=0)\n",
    "print \"image after ex\"\n",
    "n_model.predict_classes(image_predic)\n",
    "\n",
    "layer_name = 'conv2d_9'\n",
    "intermediate_layer_model = Model(inputs=n_model.input,\n",
    "                                 outputs=n_model.get_layer(layer_name).output)\n",
    "intermediate_output = intermediate_layer_model.predict(image_predic)\n",
    "print (\"intermediate output shape \", intermediate_output.shape)\n",
    "\n",
    "def visualize(image):\n",
    "    \n",
    "    image = np.squeeze(image, axis=0)\n",
    "    print image.shape\n",
    "    plt.imshow(image)\n",
    "    \n",
    "visualize(intermediate_output)"
   ]
  },
  {
   "cell_type": "markdown",
   "metadata": {},
   "source": [
    "\n",
    "## Visualize output of intermediate layers without training\n",
    "\n"
   ]
  },
  {
   "cell_type": "code",
   "execution_count": 50,
   "metadata": {},
   "outputs": [
    {
     "name": "stdout",
     "output_type": "stream",
     "text": [
      "('image shape ', (183, 276, 3))\n"
     ]
    },
    {
     "data": {
      "text/plain": [
       "<matplotlib.image.AxesImage at 0x7f0a1eff8b10>"
      ]
     },
     "execution_count": 50,
     "metadata": {},
     "output_type": "execute_result"
    },
    {
     "data": {
      "image/png": "[encoded data removed]",
      "text/plain": [
       "<Figure size 432x288 with 1 Axes>"
      ]
     },
     "metadata": {},
     "output_type": "display_data"
    }
   ],
   "source": [
    "# load image \n",
    "dog = cv2.imread('./images/dog.jpeg')\n",
    "print (\"image shape \", dog.shape)\n",
    "plt.imshow(dog)"
   ]
  },
  {
   "cell_type": "code",
   "execution_count": 71,
   "metadata": {},
   "outputs": [
    {
     "name": "stdout",
     "output_type": "stream",
     "text": [
      "('dog image after expanding dimension ', (1, 183, 276, 3))\n",
      "_________________________________________________________________\n",
      "Layer (type)                 Output Shape              Param #   \n",
      "=================================================================\n",
      "conv2d_21 (Conv2D)           (None, 177, 270, 3)       444       \n",
      "=================================================================\n",
      "Total params: 444\n",
      "Trainable params: 444\n",
      "Non-trainable params: 0\n",
      "_________________________________________________________________\n",
      "None\n"
     ]
    }
   ],
   "source": [
    "demo_model = Sequential()\n",
    "demo_model.add((Conv2D(3, (7, 7),  input_shape=dog.shape)))\n",
    "\n",
    "# by default keras model expects images in batches, but we have single image \n",
    "dog_image = np.expand_dims(dog, axis=0) # add extra dimension\n",
    "print (\"dog image after expanding dimension \", dog_image.shape) # first element is batch \n",
    "print (demo_model.summary())\n"
   ]
  },
  {
   "cell_type": "code",
   "execution_count": 72,
   "metadata": {},
   "outputs": [
    {
     "name": "stdout",
     "output_type": "stream",
     "text": [
      "(177, 270, 3)\n"
     ]
    },
    {
     "data": {
      "image/png": "[encoded data removed]",
      "text/plain": [
       "<Figure size 432x288 with 1 Axes>"
      ]
     },
     "metadata": {},
     "output_type": "display_data"
    }
   ],
   "source": [
    "result = demo_model.predict(dog_image)\n",
    "\n",
    "def visualize(image):\n",
    "    \n",
    "    image = np.squeeze(image, axis=0)\n",
    "    print image.shape\n",
    "    plt.imshow(image)\n",
    "    \n",
    "visualize(result)"
   ]
  },
  {
   "cell_type": "markdown",
   "metadata": {},
   "source": [
    "This was the sample example, how to visualize output of intermediate layers. Similarly we can also add more layers and visualize the output"
   ]
  }
 ],
 "metadata": {
  "kernelspec": {
   "display_name": "Python 2",
   "language": "python",
   "name": "python2"
  },
  "language_info": {
   "codemirror_mode": {
    "name": "ipython",
    "version": 2
   },
   "file_extension": ".py",
   "mimetype": "text/x-python",
   "name": "python",
   "nbconvert_exporter": "python",
   "pygments_lexer": "ipython2",
   "version": "2.7.14"
  }
 },
 "nbformat": 4,
 "nbformat_minor": 2
}
