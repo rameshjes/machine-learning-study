{
 "metadata": {
  "language_info": {
   "codemirror_mode": {
    "name": "ipython",
    "version": 3
   },
   "file_extension": ".py",
   "mimetype": "text/x-python",
   "name": "python",
   "nbconvert_exporter": "python",
   "pygments_lexer": "ipython3",
   "version": "3.6.9-final"
  },
  "orig_nbformat": 2,
  "kernelspec": {
   "name": "kaggle-comp",
   "display_name": "kaggle-comp"
  }
 },
 "nbformat": 4,
 "nbformat_minor": 2,
 "cells": [
  {
   "cell_type": "markdown",
   "metadata": {},
   "source": [
    "# Feature Engineering"
   ]
  },
  {
   "cell_type": "code",
   "execution_count": null,
   "metadata": {},
   "outputs": [],
   "source": [
    "### Creating bunch of datetime column"
   ]
  },
  {
   "cell_type": "code",
   "execution_count": 2,
   "metadata": {},
   "outputs": [],
   "source": [
    "import pandas as pd\n",
    "import numpy as np\n",
    "from sklearn import preprocessing"
   ]
  },
  {
   "cell_type": "code",
   "execution_count": 2,
   "metadata": {},
   "outputs": [
    {
     "output_type": "execute_result",
     "data": {
      "text/plain": "2020-01-01 00:00:00   2020-01-01 00:00:00\n2020-01-01 10:00:00   2020-01-01 10:00:00\n2020-01-01 20:00:00   2020-01-01 20:00:00\n2020-01-02 06:00:00   2020-01-02 06:00:00\n2020-01-02 16:00:00   2020-01-02 16:00:00\n2020-01-03 02:00:00   2020-01-03 02:00:00\n2020-01-03 12:00:00   2020-01-03 12:00:00\n2020-01-03 22:00:00   2020-01-03 22:00:00\n2020-01-04 08:00:00   2020-01-04 08:00:00\n2020-01-04 18:00:00   2020-01-04 18:00:00\nFreq: 10H, dtype: datetime64[ns]"
     },
     "metadata": {},
     "execution_count": 2
    }
   ],
   "source": [
    "s = pd.date_range('2020-01-01', '2020-01-05', freq='10H').to_series()\n",
    "s"
   ]
  },
  {
   "cell_type": "code",
   "execution_count": 3,
   "metadata": {},
   "outputs": [],
   "source": [
    "# create some features based on datetime\n",
    "features = {\n",
    "    \"dayofweek\": s.dt.dayofweek.values,\n",
    "    \"dayofyear\": s.dt.dayofyear.values,\n",
    "    \"hour\": s.dt.hour.values,\n",
    "    \"is_leap_year\": s.dt.is_leap_year.values,\n",
    "    \"quarter\": s.dt.quarter.values,\n",
    "    \"weekofyear\": s.dt.weekofyear.values\n",
    "}"
   ]
  },
  {
   "cell_type": "code",
   "execution_count": 4,
   "metadata": {},
   "outputs": [
    {
     "output_type": "execute_result",
     "data": {
      "text/plain": "   dayofweek  dayofyear  hour  is_leap_year  quarter  weekofyear\n0          2          1     0          True        1           1\n1          2          1    10          True        1           1\n2          2          1    20          True        1           1\n3          3          2     6          True        1           1\n4          3          2    16          True        1           1\n5          4          3     2          True        1           1\n6          4          3    12          True        1           1\n7          4          3    22          True        1           1\n8          5          4     8          True        1           1\n9          5          4    18          True        1           1",
      "text/html": "<div>\n<style scoped>\n    .dataframe tbody tr th:only-of-type {\n        vertical-align: middle;\n    }\n\n    .dataframe tbody tr th {\n        vertical-align: top;\n    }\n\n    .dataframe thead th {\n        text-align: right;\n    }\n</style>\n<table border=\"1\" class=\"dataframe\">\n  <thead>\n    <tr style=\"text-align: right;\">\n      <th></th>\n      <th>dayofweek</th>\n      <th>dayofyear</th>\n      <th>hour</th>\n      <th>is_leap_year</th>\n      <th>quarter</th>\n      <th>weekofyear</th>\n    </tr>\n  </thead>\n  <tbody>\n    <tr>\n      <th>0</th>\n      <td>2</td>\n      <td>1</td>\n      <td>0</td>\n      <td>True</td>\n      <td>1</td>\n      <td>1</td>\n    </tr>\n    <tr>\n      <th>1</th>\n      <td>2</td>\n      <td>1</td>\n      <td>10</td>\n      <td>True</td>\n      <td>1</td>\n      <td>1</td>\n    </tr>\n    <tr>\n      <th>2</th>\n      <td>2</td>\n      <td>1</td>\n      <td>20</td>\n      <td>True</td>\n      <td>1</td>\n      <td>1</td>\n    </tr>\n    <tr>\n      <th>3</th>\n      <td>3</td>\n      <td>2</td>\n      <td>6</td>\n      <td>True</td>\n      <td>1</td>\n      <td>1</td>\n    </tr>\n    <tr>\n      <th>4</th>\n      <td>3</td>\n      <td>2</td>\n      <td>16</td>\n      <td>True</td>\n      <td>1</td>\n      <td>1</td>\n    </tr>\n    <tr>\n      <th>5</th>\n      <td>4</td>\n      <td>3</td>\n      <td>2</td>\n      <td>True</td>\n      <td>1</td>\n      <td>1</td>\n    </tr>\n    <tr>\n      <th>6</th>\n      <td>4</td>\n      <td>3</td>\n      <td>12</td>\n      <td>True</td>\n      <td>1</td>\n      <td>1</td>\n    </tr>\n    <tr>\n      <th>7</th>\n      <td>4</td>\n      <td>3</td>\n      <td>22</td>\n      <td>True</td>\n      <td>1</td>\n      <td>1</td>\n    </tr>\n    <tr>\n      <th>8</th>\n      <td>5</td>\n      <td>4</td>\n      <td>8</td>\n      <td>True</td>\n      <td>1</td>\n      <td>1</td>\n    </tr>\n    <tr>\n      <th>9</th>\n      <td>5</td>\n      <td>4</td>\n      <td>18</td>\n      <td>True</td>\n      <td>1</td>\n      <td>1</td>\n    </tr>\n  </tbody>\n</table>\n</div>"
     },
     "metadata": {},
     "execution_count": 4
    }
   ],
   "source": [
    "pd.DataFrame(data=features)"
   ]
  },
  {
   "cell_type": "code",
   "execution_count": null,
   "metadata": {},
   "outputs": [],
   "source": []
  },
  {
   "cell_type": "code",
   "execution_count": 5,
   "metadata": {},
   "outputs": [],
   "source": [
    "# Create Polynomial Features"
   ]
  },
  {
   "cell_type": "code",
   "execution_count": 7,
   "metadata": {},
   "outputs": [
    {
     "output_type": "execute_result",
     "data": {
      "text/plain": "         f_1       f_2\n0   0.399324  0.292520\n1   0.060391  0.546471\n2   0.979883  0.554564\n3   0.272559  0.420075\n4   0.196427  0.915723\n..       ...       ...\n95  0.522244  0.324493\n96  0.465360  0.020053\n97  0.308104  0.753399\n98  0.302488  0.341839\n99  0.646732  0.364783\n\n[100 rows x 2 columns]",
      "text/html": "<div>\n<style scoped>\n    .dataframe tbody tr th:only-of-type {\n        vertical-align: middle;\n    }\n\n    .dataframe tbody tr th {\n        vertical-align: top;\n    }\n\n    .dataframe thead th {\n        text-align: right;\n    }\n</style>\n<table border=\"1\" class=\"dataframe\">\n  <thead>\n    <tr style=\"text-align: right;\">\n      <th></th>\n      <th>f_1</th>\n      <th>f_2</th>\n    </tr>\n  </thead>\n  <tbody>\n    <tr>\n      <th>0</th>\n      <td>0.399324</td>\n      <td>0.292520</td>\n    </tr>\n    <tr>\n      <th>1</th>\n      <td>0.060391</td>\n      <td>0.546471</td>\n    </tr>\n    <tr>\n      <th>2</th>\n      <td>0.979883</td>\n      <td>0.554564</td>\n    </tr>\n    <tr>\n      <th>3</th>\n      <td>0.272559</td>\n      <td>0.420075</td>\n    </tr>\n    <tr>\n      <th>4</th>\n      <td>0.196427</td>\n      <td>0.915723</td>\n    </tr>\n    <tr>\n      <th>...</th>\n      <td>...</td>\n      <td>...</td>\n    </tr>\n    <tr>\n      <th>95</th>\n      <td>0.522244</td>\n      <td>0.324493</td>\n    </tr>\n    <tr>\n      <th>96</th>\n      <td>0.465360</td>\n      <td>0.020053</td>\n    </tr>\n    <tr>\n      <th>97</th>\n      <td>0.308104</td>\n      <td>0.753399</td>\n    </tr>\n    <tr>\n      <th>98</th>\n      <td>0.302488</td>\n      <td>0.341839</td>\n    </tr>\n    <tr>\n      <th>99</th>\n      <td>0.646732</td>\n      <td>0.364783</td>\n    </tr>\n  </tbody>\n</table>\n<p>100 rows × 2 columns</p>\n</div>"
     },
     "metadata": {},
     "execution_count": 7
    }
   ],
   "source": [
    "df = pd.DataFrame(\n",
    "    np.random.rand(100,2),\n",
    "    columns = [f\"f_{i}\" for i in range(1,3)]\n",
    ")\n",
    "df"
   ]
  },
  {
   "cell_type": "code",
   "execution_count": null,
   "metadata": {},
   "outputs": [],
   "source": [
    "# Create two degree polynomail using sklearn"
   ]
  },
  {
   "cell_type": "code",
   "execution_count": 10,
   "metadata": {},
   "outputs": [
    {
     "output_type": "execute_result",
     "data": {
      "text/plain": "PolynomialFeatures(degree=2, include_bias=False, interaction_only=False,\n                   order='C')"
     },
     "metadata": {},
     "execution_count": 10
    }
   ],
   "source": [
    "pf = preprocessing.PolynomialFeatures(\n",
    "    degree=2,\n",
    "    interaction_only=False,\n",
    "    include_bias=False\n",
    ")\n",
    "\n",
    "# fit the feature\n",
    "pf.fit(df)"
   ]
  },
  {
   "cell_type": "code",
   "execution_count": 11,
   "metadata": {},
   "outputs": [],
   "source": [
    "# create polynomial feature\n",
    "poly_feats = pf.transform(df)"
   ]
  },
  {
   "cell_type": "code",
   "execution_count": 12,
   "metadata": {
    "tags": []
   },
   "outputs": [
    {
     "output_type": "stream",
     "name": "stdout",
     "text": "num feats 5\n"
    }
   ],
   "source": [
    "# create a df with all the features\n",
    "num_feats = poly_feats.shape[1]\n",
    "print(f\"num feats {num_feats}\")"
   ]
  },
  {
   "cell_type": "code",
   "execution_count": 14,
   "metadata": {},
   "outputs": [],
   "source": [
    "df_transformed = pd.DataFrame(\n",
    "    poly_feats,\n",
    "    columns=[f\"f_{i}\" for i in range(1, num_feats + 1)]\n",
    ")"
   ]
  },
  {
   "cell_type": "code",
   "execution_count": 15,
   "metadata": {},
   "outputs": [
    {
     "output_type": "execute_result",
     "data": {
      "text/plain": "         f_1       f_2       f_3       f_4       f_5\n0   0.399324  0.292520  0.159460  0.116810  0.085568\n1   0.060391  0.546471  0.003647  0.033002  0.298630\n2   0.979883  0.554564  0.960171  0.543408  0.307542\n3   0.272559  0.420075  0.074288  0.114495  0.176463\n4   0.196427  0.915723  0.038584  0.179873  0.838549\n..       ...       ...       ...       ...       ...\n95  0.522244  0.324493  0.272739  0.169464  0.105295\n96  0.465360  0.020053  0.216560  0.009332  0.000402\n97  0.308104  0.753399  0.094928  0.232125  0.567609\n98  0.302488  0.341839  0.091499  0.103402  0.116854\n99  0.646732  0.364783  0.418262  0.235917  0.133067\n\n[100 rows x 5 columns]",
      "text/html": "<div>\n<style scoped>\n    .dataframe tbody tr th:only-of-type {\n        vertical-align: middle;\n    }\n\n    .dataframe tbody tr th {\n        vertical-align: top;\n    }\n\n    .dataframe thead th {\n        text-align: right;\n    }\n</style>\n<table border=\"1\" class=\"dataframe\">\n  <thead>\n    <tr style=\"text-align: right;\">\n      <th></th>\n      <th>f_1</th>\n      <th>f_2</th>\n      <th>f_3</th>\n      <th>f_4</th>\n      <th>f_5</th>\n    </tr>\n  </thead>\n  <tbody>\n    <tr>\n      <th>0</th>\n      <td>0.399324</td>\n      <td>0.292520</td>\n      <td>0.159460</td>\n      <td>0.116810</td>\n      <td>0.085568</td>\n    </tr>\n    <tr>\n      <th>1</th>\n      <td>0.060391</td>\n      <td>0.546471</td>\n      <td>0.003647</td>\n      <td>0.033002</td>\n      <td>0.298630</td>\n    </tr>\n    <tr>\n      <th>2</th>\n      <td>0.979883</td>\n      <td>0.554564</td>\n      <td>0.960171</td>\n      <td>0.543408</td>\n      <td>0.307542</td>\n    </tr>\n    <tr>\n      <th>3</th>\n      <td>0.272559</td>\n      <td>0.420075</td>\n      <td>0.074288</td>\n      <td>0.114495</td>\n      <td>0.176463</td>\n    </tr>\n    <tr>\n      <th>4</th>\n      <td>0.196427</td>\n      <td>0.915723</td>\n      <td>0.038584</td>\n      <td>0.179873</td>\n      <td>0.838549</td>\n    </tr>\n    <tr>\n      <th>...</th>\n      <td>...</td>\n      <td>...</td>\n      <td>...</td>\n      <td>...</td>\n      <td>...</td>\n    </tr>\n    <tr>\n      <th>95</th>\n      <td>0.522244</td>\n      <td>0.324493</td>\n      <td>0.272739</td>\n      <td>0.169464</td>\n      <td>0.105295</td>\n    </tr>\n    <tr>\n      <th>96</th>\n      <td>0.465360</td>\n      <td>0.020053</td>\n      <td>0.216560</td>\n      <td>0.009332</td>\n      <td>0.000402</td>\n    </tr>\n    <tr>\n      <th>97</th>\n      <td>0.308104</td>\n      <td>0.753399</td>\n      <td>0.094928</td>\n      <td>0.232125</td>\n      <td>0.567609</td>\n    </tr>\n    <tr>\n      <th>98</th>\n      <td>0.302488</td>\n      <td>0.341839</td>\n      <td>0.091499</td>\n      <td>0.103402</td>\n      <td>0.116854</td>\n    </tr>\n    <tr>\n      <th>99</th>\n      <td>0.646732</td>\n      <td>0.364783</td>\n      <td>0.418262</td>\n      <td>0.235917</td>\n      <td>0.133067</td>\n    </tr>\n  </tbody>\n</table>\n<p>100 rows × 5 columns</p>\n</div>"
     },
     "metadata": {},
     "execution_count": 15
    }
   ],
   "source": [
    "df_transformed"
   ]
  },
  {
   "cell_type": "code",
   "execution_count": 16,
   "metadata": {},
   "outputs": [],
   "source": [
    "#  Binning\n"
   ]
  },
  {
   "cell_type": "code",
   "execution_count": 17,
   "metadata": {},
   "outputs": [
    {
     "output_type": "execute_result",
     "data": {
      "text/plain": "         f_1       f_2  f_bin_10\n0   0.399324  0.292520         3\n1   0.060391  0.546471         0\n2   0.979883  0.554564         9\n3   0.272559  0.420075         2\n4   0.196427  0.915723         1\n..       ...       ...       ...\n95  0.522244  0.324493         5\n96  0.465360  0.020053         4\n97  0.308104  0.753399         2\n98  0.302488  0.341839         2\n99  0.646732  0.364783         6\n\n[100 rows x 3 columns]",
      "text/html": "<div>\n<style scoped>\n    .dataframe tbody tr th:only-of-type {\n        vertical-align: middle;\n    }\n\n    .dataframe tbody tr th {\n        vertical-align: top;\n    }\n\n    .dataframe thead th {\n        text-align: right;\n    }\n</style>\n<table border=\"1\" class=\"dataframe\">\n  <thead>\n    <tr style=\"text-align: right;\">\n      <th></th>\n      <th>f_1</th>\n      <th>f_2</th>\n      <th>f_bin_10</th>\n    </tr>\n  </thead>\n  <tbody>\n    <tr>\n      <th>0</th>\n      <td>0.399324</td>\n      <td>0.292520</td>\n      <td>3</td>\n    </tr>\n    <tr>\n      <th>1</th>\n      <td>0.060391</td>\n      <td>0.546471</td>\n      <td>0</td>\n    </tr>\n    <tr>\n      <th>2</th>\n      <td>0.979883</td>\n      <td>0.554564</td>\n      <td>9</td>\n    </tr>\n    <tr>\n      <th>3</th>\n      <td>0.272559</td>\n      <td>0.420075</td>\n      <td>2</td>\n    </tr>\n    <tr>\n      <th>4</th>\n      <td>0.196427</td>\n      <td>0.915723</td>\n      <td>1</td>\n    </tr>\n    <tr>\n      <th>...</th>\n      <td>...</td>\n      <td>...</td>\n      <td>...</td>\n    </tr>\n    <tr>\n      <th>95</th>\n      <td>0.522244</td>\n      <td>0.324493</td>\n      <td>5</td>\n    </tr>\n    <tr>\n      <th>96</th>\n      <td>0.465360</td>\n      <td>0.020053</td>\n      <td>4</td>\n    </tr>\n    <tr>\n      <th>97</th>\n      <td>0.308104</td>\n      <td>0.753399</td>\n      <td>2</td>\n    </tr>\n    <tr>\n      <th>98</th>\n      <td>0.302488</td>\n      <td>0.341839</td>\n      <td>2</td>\n    </tr>\n    <tr>\n      <th>99</th>\n      <td>0.646732</td>\n      <td>0.364783</td>\n      <td>6</td>\n    </tr>\n  </tbody>\n</table>\n<p>100 rows × 3 columns</p>\n</div>"
     },
     "metadata": {},
     "execution_count": 17
    }
   ],
   "source": [
    "df[\"f_bin_10\"] = pd.cut(df[\"f_1\"], bins=10, labels=False)\n",
    "df"
   ]
  },
  {
   "cell_type": "code",
   "execution_count": 18,
   "metadata": {},
   "outputs": [
    {
     "output_type": "execute_result",
     "data": {
      "text/plain": "         f_1       f_2  f_bin_10  f_bin_100\n0   0.399324  0.292520         3         37\n1   0.060391  0.546471         0          2\n2   0.979883  0.554564         9         97\n3   0.272559  0.420075         2         24\n4   0.196427  0.915723         1         16\n..       ...       ...       ...        ...\n95  0.522244  0.324493         5         50\n96  0.465360  0.020053         4         44\n97  0.308104  0.753399         2         28\n98  0.302488  0.341839         2         27\n99  0.646732  0.364783         6         63\n\n[100 rows x 4 columns]",
      "text/html": "<div>\n<style scoped>\n    .dataframe tbody tr th:only-of-type {\n        vertical-align: middle;\n    }\n\n    .dataframe tbody tr th {\n        vertical-align: top;\n    }\n\n    .dataframe thead th {\n        text-align: right;\n    }\n</style>\n<table border=\"1\" class=\"dataframe\">\n  <thead>\n    <tr style=\"text-align: right;\">\n      <th></th>\n      <th>f_1</th>\n      <th>f_2</th>\n      <th>f_bin_10</th>\n      <th>f_bin_100</th>\n    </tr>\n  </thead>\n  <tbody>\n    <tr>\n      <th>0</th>\n      <td>0.399324</td>\n      <td>0.292520</td>\n      <td>3</td>\n      <td>37</td>\n    </tr>\n    <tr>\n      <th>1</th>\n      <td>0.060391</td>\n      <td>0.546471</td>\n      <td>0</td>\n      <td>2</td>\n    </tr>\n    <tr>\n      <th>2</th>\n      <td>0.979883</td>\n      <td>0.554564</td>\n      <td>9</td>\n      <td>97</td>\n    </tr>\n    <tr>\n      <th>3</th>\n      <td>0.272559</td>\n      <td>0.420075</td>\n      <td>2</td>\n      <td>24</td>\n    </tr>\n    <tr>\n      <th>4</th>\n      <td>0.196427</td>\n      <td>0.915723</td>\n      <td>1</td>\n      <td>16</td>\n    </tr>\n    <tr>\n      <th>...</th>\n      <td>...</td>\n      <td>...</td>\n      <td>...</td>\n      <td>...</td>\n    </tr>\n    <tr>\n      <th>95</th>\n      <td>0.522244</td>\n      <td>0.324493</td>\n      <td>5</td>\n      <td>50</td>\n    </tr>\n    <tr>\n      <th>96</th>\n      <td>0.465360</td>\n      <td>0.020053</td>\n      <td>4</td>\n      <td>44</td>\n    </tr>\n    <tr>\n      <th>97</th>\n      <td>0.308104</td>\n      <td>0.753399</td>\n      <td>2</td>\n      <td>28</td>\n    </tr>\n    <tr>\n      <th>98</th>\n      <td>0.302488</td>\n      <td>0.341839</td>\n      <td>2</td>\n      <td>27</td>\n    </tr>\n    <tr>\n      <th>99</th>\n      <td>0.646732</td>\n      <td>0.364783</td>\n      <td>6</td>\n      <td>63</td>\n    </tr>\n  </tbody>\n</table>\n<p>100 rows × 4 columns</p>\n</div>"
     },
     "metadata": {},
     "execution_count": 18
    }
   ],
   "source": [
    "df[\"f_bin_100\"] = pd.cut(df[\"f_1\"], bins=100, labels=False)\n",
    "df"
   ]
  },
  {
   "cell_type": "code",
   "execution_count": 5,
   "metadata": {
    "tags": []
   },
   "outputs": [
    {
     "output_type": "stream",
     "name": "stdout",
     "text": "f1 variance 0.09864569999999999\nf2 variance 0.12245629999999999\nf3 variance 10547112.2\nWe can see variance of f3 is way higher than other features\n"
    }
   ],
   "source": [
    "## How to Identity High Variance Features and Reduce their Variance\n",
    "\n",
    "d = {\"f_1\" : [0.143, 0.421, 0.224, 0.859, 0.082],\n",
    "    \"f_2\" : [0.286, 0.967, 0.075, 0.652, 0.662],\n",
    "    \"f_3\" : [8048, 7433, 2289, 1153, 2201]\n",
    "}\n",
    "new_df = pd.DataFrame(d)\n",
    "print(f\"f1 variance {new_df.f_1.var()}\")\n",
    "print(f\"f2 variance {new_df.f_2.var()}\")\n",
    "print(f\"f3 variance {new_df.f_3.var()}\")\n",
    "\n",
    "print(\"We can see variance of f3 is way higher than other features\")"
   ]
  },
  {
   "cell_type": "code",
   "execution_count": 7,
   "metadata": {},
   "outputs": [
    {
     "output_type": "execute_result",
     "data": {
      "text/plain": "0.7132366590543565"
     },
     "metadata": {},
     "execution_count": 7
    }
   ],
   "source": [
    "# To reduce variance, apply Log_transformation\n",
    "\n",
    "\"\"\"\n",
    "Log tranformation\n",
    "\n",
    "The log transformation is, arguably, the most popular among the different types of transformations used to transform skewed data to approximately conform to normality.\n",
    "\n",
    "If the original data follows a log-normal distribution or approximately so, then the log-transformed data follows a normal or near normal distribution.\n",
    "\n",
    "\"\"\"\n",
    "\n",
    "new_df.f_3.apply(lambda x: np.log(1 + x)).var()\n",
    "\n",
    "# By using this transformation, we have reduced the variance of this feature significantly, and it is pretty much on the same scale as the other features."
   ]
  },
  {
   "cell_type": "code",
   "execution_count": 8,
   "metadata": {},
   "outputs": [
    {
     "output_type": "execute_result",
     "data": {
      "text/plain": "     f_1    f_2   f_3\n0  0.143  0.286  8048\n1  0.421  0.967  7433\n2  0.224  0.075  2289\n3  0.859  0.652  1153\n4  0.082  0.662  2201",
      "text/html": "<div>\n<style scoped>\n    .dataframe tbody tr th:only-of-type {\n        vertical-align: middle;\n    }\n\n    .dataframe tbody tr th {\n        vertical-align: top;\n    }\n\n    .dataframe thead th {\n        text-align: right;\n    }\n</style>\n<table border=\"1\" class=\"dataframe\">\n  <thead>\n    <tr style=\"text-align: right;\">\n      <th></th>\n      <th>f_1</th>\n      <th>f_2</th>\n      <th>f_3</th>\n    </tr>\n  </thead>\n  <tbody>\n    <tr>\n      <th>0</th>\n      <td>0.143</td>\n      <td>0.286</td>\n      <td>8048</td>\n    </tr>\n    <tr>\n      <th>1</th>\n      <td>0.421</td>\n      <td>0.967</td>\n      <td>7433</td>\n    </tr>\n    <tr>\n      <th>2</th>\n      <td>0.224</td>\n      <td>0.075</td>\n      <td>2289</td>\n    </tr>\n    <tr>\n      <th>3</th>\n      <td>0.859</td>\n      <td>0.652</td>\n      <td>1153</td>\n    </tr>\n    <tr>\n      <th>4</th>\n      <td>0.082</td>\n      <td>0.662</td>\n      <td>2201</td>\n    </tr>\n  </tbody>\n</table>\n</div>"
     },
     "metadata": {},
     "execution_count": 8
    }
   ],
   "source": []
  },
  {
   "cell_type": "code",
   "execution_count": null,
   "metadata": {},
   "outputs": [],
   "source": []
  }
 ]
}