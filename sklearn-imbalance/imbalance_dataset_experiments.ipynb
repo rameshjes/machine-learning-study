{
 "cells": [
  {
   "cell_type": "code",
   "execution_count": 108,
   "metadata": {},
   "outputs": [],
   "source": [
    "\n",
    "import pandas as pd\n",
    "import numpy as np\n",
    "from sklearn.model_selection import KFold, StratifiedKFold, cross_val_score, RandomizedSearchCV \n",
    "from sklearn.datasets import make_classification\n",
    "from sklearn.naive_bayes import GaussianNB\n",
    "from sklearn.linear_model import LogisticRegression\n",
    "from sklearn.ensemble import RandomForestClassifier, GradientBoostingClassifier\n",
    "from sklearn.utils.class_weight import compute_class_weight\n",
    "from sklearn.metrics import f1_score, accuracy_score, roc_auc_score, precision_score, recall_score\n",
    "import xgboost as xgb\n",
    "from scipy.stats import uniform, randint\n",
    "\n",
    "RNG = 42"
   ]
  },
  {
   "cell_type": "code",
   "execution_count": 40,
   "metadata": {},
   "outputs": [],
   "source": [
    "\n",
    "# Make some synthetic imbalanced binary classification data\n",
    "X, y = make_classification(n_classes=2, class_sep=2, \n",
    "    weights=[0.95, 0.05], \n",
    "    n_informative=2, n_redundant=0, n_features=50,\n",
    "    flip_y=0.05,\n",
    "    n_clusters_per_class=1, \n",
    "    n_samples=15000, random_state=RNG)\n"
   ]
  },
  {
   "cell_type": "code",
   "execution_count": 41,
   "metadata": {},
   "outputs": [
    {
     "data": {
      "text/plain": [
       "(15000, 50)"
      ]
     },
     "execution_count": 41,
     "metadata": {},
     "output_type": "execute_result"
    }
   ],
   "source": [
    "X.shape"
   ]
  },
  {
   "cell_type": "code",
   "execution_count": 42,
   "metadata": {},
   "outputs": [
    {
     "data": {
      "text/plain": [
       "(array([0, 1]), array([13918,  1082]))"
      ]
     },
     "execution_count": 42,
     "metadata": {},
     "output_type": "execute_result"
    }
   ],
   "source": [
    "np.unique(y, return_counts=True)"
   ]
  },
  {
   "cell_type": "code",
   "execution_count": 43,
   "metadata": {},
   "outputs": [],
   "source": [
    "metric_names = ['f1', 'roc_auc', 'average_precision', 'accuracy', 'precision', 'recall']\n",
    "cv = KFold(n_splits=3)\n",
    "scv = StratifiedKFold(n_splits=3)"
   ]
  },
  {
   "cell_type": "code",
   "execution_count": 44,
   "metadata": {},
   "outputs": [],
   "source": [
    "# metric_names = ['f1', 'roc_auc', 'average_precision', 'accuracy', 'precision', 'recall']\n",
    "scores_df = pd.DataFrame(index=metric_names, columns=['Random-CV', 'Stratified-CV']) # to store the scores\n",
    "clf = GaussianNB()\n",
    "for metric in metric_names:\n",
    "    score1 = cross_val_score(clf, X, y, scoring=metric, cv=cv).mean()\n",
    "    score2 = cross_val_score(clf, X, y, scoring=metric, cv=scv).mean()\n",
    "    scores_df.loc[metric] = [score1, score2]"
   ]
  },
  {
   "cell_type": "code",
   "execution_count": 45,
   "metadata": {},
   "outputs": [
    {
     "data": {
      "text/html": [
       "<div>\n",
       "<style scoped>\n",
       "    .dataframe tbody tr th:only-of-type {\n",
       "        vertical-align: middle;\n",
       "    }\n",
       "\n",
       "    .dataframe tbody tr th {\n",
       "        vertical-align: top;\n",
       "    }\n",
       "\n",
       "    .dataframe thead th {\n",
       "        text-align: right;\n",
       "    }\n",
       "</style>\n",
       "<table border=\"1\" class=\"dataframe\">\n",
       "  <thead>\n",
       "    <tr style=\"text-align: right;\">\n",
       "      <th></th>\n",
       "      <th>Random-CV</th>\n",
       "      <th>Stratified-CV</th>\n",
       "    </tr>\n",
       "  </thead>\n",
       "  <tbody>\n",
       "    <tr>\n",
       "      <th>f1</th>\n",
       "      <td>0.785002</td>\n",
       "      <td>0.785101</td>\n",
       "    </tr>\n",
       "    <tr>\n",
       "      <th>roc_auc</th>\n",
       "      <td>0.832357</td>\n",
       "      <td>0.83265</td>\n",
       "    </tr>\n",
       "    <tr>\n",
       "      <th>average_precision</th>\n",
       "      <td>0.705496</td>\n",
       "      <td>0.705934</td>\n",
       "    </tr>\n",
       "    <tr>\n",
       "      <th>accuracy</th>\n",
       "      <td>0.973467</td>\n",
       "      <td>0.973467</td>\n",
       "    </tr>\n",
       "    <tr>\n",
       "      <th>precision</th>\n",
       "      <td>0.944575</td>\n",
       "      <td>0.944384</td>\n",
       "    </tr>\n",
       "    <tr>\n",
       "      <th>recall</th>\n",
       "      <td>0.671682</td>\n",
       "      <td>0.671909</td>\n",
       "    </tr>\n",
       "  </tbody>\n",
       "</table>\n",
       "</div>"
      ],
      "text/plain": [
       "                  Random-CV Stratified-CV\n",
       "f1                 0.785002      0.785101\n",
       "roc_auc            0.832357       0.83265\n",
       "average_precision  0.705496      0.705934\n",
       "accuracy           0.973467      0.973467\n",
       "precision          0.944575      0.944384\n",
       "recall             0.671682      0.671909"
      ]
     },
     "execution_count": 45,
     "metadata": {},
     "output_type": "execute_result"
    }
   ],
   "source": [
    "scores_df"
   ]
  },
  {
   "cell_type": "markdown",
   "metadata": {},
   "source": [
    "# Logistic Regression (without assigning higher weights to classes)"
   ]
  },
  {
   "cell_type": "code",
   "execution_count": 46,
   "metadata": {},
   "outputs": [],
   "source": [
    "scores_df1 = pd.DataFrame(index=metric_names, columns=['Random-CV', 'Stratified-CV']) # to store the scores\n",
    "class_weights_1 = compute_class_weight(None, np.unique(y), y)\n",
    "\n",
    "clf1 = LogisticRegression(solver='lbfgs')\n",
    "\n",
    "for metric in metric_names:\n",
    "    score1 = cross_val_score(clf1, X, y, scoring=metric, cv=cv).mean()\n",
    "    score2 = cross_val_score(clf1, X, y, scoring=metric, cv=scv).mean()\n",
    "    scores_df1.loc[metric] = [score1, score2]"
   ]
  },
  {
   "cell_type": "code",
   "execution_count": 47,
   "metadata": {},
   "outputs": [
    {
     "data": {
      "text/html": [
       "<div>\n",
       "<style scoped>\n",
       "    .dataframe tbody tr th:only-of-type {\n",
       "        vertical-align: middle;\n",
       "    }\n",
       "\n",
       "    .dataframe tbody tr th {\n",
       "        vertical-align: top;\n",
       "    }\n",
       "\n",
       "    .dataframe thead th {\n",
       "        text-align: right;\n",
       "    }\n",
       "</style>\n",
       "<table border=\"1\" class=\"dataframe\">\n",
       "  <thead>\n",
       "    <tr style=\"text-align: right;\">\n",
       "      <th></th>\n",
       "      <th>Random-CV</th>\n",
       "      <th>Stratified-CV</th>\n",
       "    </tr>\n",
       "  </thead>\n",
       "  <tbody>\n",
       "    <tr>\n",
       "      <th>f1</th>\n",
       "      <td>0.774393</td>\n",
       "      <td>0.775351</td>\n",
       "    </tr>\n",
       "    <tr>\n",
       "      <th>roc_auc</th>\n",
       "      <td>0.835768</td>\n",
       "      <td>0.835858</td>\n",
       "    </tr>\n",
       "    <tr>\n",
       "      <th>average_precision</th>\n",
       "      <td>0.703357</td>\n",
       "      <td>0.703825</td>\n",
       "    </tr>\n",
       "    <tr>\n",
       "      <th>accuracy</th>\n",
       "      <td>0.972933</td>\n",
       "      <td>0.973</td>\n",
       "    </tr>\n",
       "    <tr>\n",
       "      <th>precision</th>\n",
       "      <td>0.969318</td>\n",
       "      <td>0.969476</td>\n",
       "    </tr>\n",
       "    <tr>\n",
       "      <th>recall</th>\n",
       "      <td>0.644795</td>\n",
       "      <td>0.646032</td>\n",
       "    </tr>\n",
       "  </tbody>\n",
       "</table>\n",
       "</div>"
      ],
      "text/plain": [
       "                  Random-CV Stratified-CV\n",
       "f1                 0.774393      0.775351\n",
       "roc_auc            0.835768      0.835858\n",
       "average_precision  0.703357      0.703825\n",
       "accuracy           0.972933         0.973\n",
       "precision          0.969318      0.969476\n",
       "recall             0.644795      0.646032"
      ]
     },
     "execution_count": 47,
     "metadata": {},
     "output_type": "execute_result"
    }
   ],
   "source": [
    "scores_df1"
   ]
  },
  {
   "cell_type": "code",
   "execution_count": 48,
   "metadata": {},
   "outputs": [
    {
     "name": "stdout",
     "output_type": "stream",
     "text": [
      "[0.53887053 6.93160813]\n"
     ]
    }
   ],
   "source": [
    "from sklearn.utils.class_weight import compute_class_weight\n",
    "class_weights = compute_class_weight('balanced', np.unique(y), y)\n",
    "print(class_weights)"
   ]
  },
  {
   "cell_type": "markdown",
   "metadata": {},
   "source": [
    "# Logistic Regression (assigning higher weights to minority class)"
   ]
  },
  {
   "cell_type": "code",
   "execution_count": 49,
   "metadata": {},
   "outputs": [],
   "source": [
    "scores_df2 = pd.DataFrame(index=metric_names, columns=['Random-CV', 'Stratified-CV']) # to store the scores\n",
    "clf2 = LogisticRegression(solver='lbfgs', class_weight={0: class_weights[0], 1: class_weights[1]})\n",
    "\n",
    "for metric in metric_names:\n",
    "    score1 = cross_val_score(clf2, X, y, scoring=metric, cv=cv).mean()\n",
    "    score2 = cross_val_score(clf2, X, y, scoring=metric, cv=scv).mean()\n",
    "    scores_df2.loc[metric] = [score1, score2]"
   ]
  },
  {
   "cell_type": "code",
   "execution_count": 50,
   "metadata": {},
   "outputs": [
    {
     "data": {
      "text/html": [
       "<div>\n",
       "<style scoped>\n",
       "    .dataframe tbody tr th:only-of-type {\n",
       "        vertical-align: middle;\n",
       "    }\n",
       "\n",
       "    .dataframe tbody tr th {\n",
       "        vertical-align: top;\n",
       "    }\n",
       "\n",
       "    .dataframe thead th {\n",
       "        text-align: right;\n",
       "    }\n",
       "</style>\n",
       "<table border=\"1\" class=\"dataframe\">\n",
       "  <thead>\n",
       "    <tr style=\"text-align: right;\">\n",
       "      <th></th>\n",
       "      <th>Random-CV</th>\n",
       "      <th>Stratified-CV</th>\n",
       "    </tr>\n",
       "  </thead>\n",
       "  <tbody>\n",
       "    <tr>\n",
       "      <th>f1</th>\n",
       "      <td>0.572225</td>\n",
       "      <td>0.57531</td>\n",
       "    </tr>\n",
       "    <tr>\n",
       "      <th>roc_auc</th>\n",
       "      <td>0.838024</td>\n",
       "      <td>0.837889</td>\n",
       "    </tr>\n",
       "    <tr>\n",
       "      <th>average_precision</th>\n",
       "      <td>0.704692</td>\n",
       "      <td>0.705569</td>\n",
       "    </tr>\n",
       "    <tr>\n",
       "      <th>accuracy</th>\n",
       "      <td>0.926</td>\n",
       "      <td>0.926733</td>\n",
       "    </tr>\n",
       "    <tr>\n",
       "      <th>precision</th>\n",
       "      <td>0.491687</td>\n",
       "      <td>0.495588</td>\n",
       "    </tr>\n",
       "    <tr>\n",
       "      <th>recall</th>\n",
       "      <td>0.685333</td>\n",
       "      <td>0.686704</td>\n",
       "    </tr>\n",
       "  </tbody>\n",
       "</table>\n",
       "</div>"
      ],
      "text/plain": [
       "                  Random-CV Stratified-CV\n",
       "f1                 0.572225       0.57531\n",
       "roc_auc            0.838024      0.837889\n",
       "average_precision  0.704692      0.705569\n",
       "accuracy              0.926      0.926733\n",
       "precision          0.491687      0.495588\n",
       "recall             0.685333      0.686704"
      ]
     },
     "execution_count": 50,
     "metadata": {},
     "output_type": "execute_result"
    }
   ],
   "source": [
    "scores_df2"
   ]
  },
  {
   "cell_type": "code",
   "execution_count": 51,
   "metadata": {},
   "outputs": [],
   "source": [
    "# Make some synthetic imbalanced binary classification data\n",
    "# X1, y1 = make_classification(n_classes=2, class_sep=2, \n",
    "#     weights=[0.05, 0.95], \n",
    "#     n_informative=2, n_redundant=5, \n",
    "#     flip_y=0.05, n_features=50, \n",
    "#     n_clusters_per_class=1, \n",
    "#     n_samples=1000, random_state=RNG)\n",
    "\n",
    "# print(np.unique(y1, return_counts=True))\n",
    "\n",
    "# class_weights1 = compute_class_weight(None, np.unique(y1), y1)\n",
    "# print(class_weights1)"
   ]
  },
  {
   "cell_type": "markdown",
   "metadata": {},
   "source": [
    "# Random Forest (without balancing)"
   ]
  },
  {
   "cell_type": "code",
   "execution_count": 52,
   "metadata": {},
   "outputs": [],
   "source": [
    "scores_df3 = pd.DataFrame(index=metric_names, columns=['Random-CV', 'Stratified-CV']) # to store the scores\n",
    "clf3 = RandomForestClassifier()\n",
    "\n",
    "for metric in metric_names:\n",
    "    score1 = cross_val_score(clf3, X, y, scoring=metric, cv=cv).mean()\n",
    "    score2 = cross_val_score(clf3, X, y, scoring=metric, cv=scv).mean()\n",
    "    scores_df3.loc[metric] = [score1, score2]"
   ]
  },
  {
   "cell_type": "code",
   "execution_count": 53,
   "metadata": {},
   "outputs": [
    {
     "data": {
      "text/html": [
       "<div>\n",
       "<style scoped>\n",
       "    .dataframe tbody tr th:only-of-type {\n",
       "        vertical-align: middle;\n",
       "    }\n",
       "\n",
       "    .dataframe tbody tr th {\n",
       "        vertical-align: top;\n",
       "    }\n",
       "\n",
       "    .dataframe thead th {\n",
       "        text-align: right;\n",
       "    }\n",
       "</style>\n",
       "<table border=\"1\" class=\"dataframe\">\n",
       "  <thead>\n",
       "    <tr style=\"text-align: right;\">\n",
       "      <th></th>\n",
       "      <th>Random-CV</th>\n",
       "      <th>Stratified-CV</th>\n",
       "    </tr>\n",
       "  </thead>\n",
       "  <tbody>\n",
       "    <tr>\n",
       "      <th>f1</th>\n",
       "      <td>0.790297</td>\n",
       "      <td>0.789489</td>\n",
       "    </tr>\n",
       "    <tr>\n",
       "      <th>roc_auc</th>\n",
       "      <td>0.839251</td>\n",
       "      <td>0.837363</td>\n",
       "    </tr>\n",
       "    <tr>\n",
       "      <th>average_precision</th>\n",
       "      <td>0.695396</td>\n",
       "      <td>0.699981</td>\n",
       "    </tr>\n",
       "    <tr>\n",
       "      <th>accuracy</th>\n",
       "      <td>0.9744</td>\n",
       "      <td>0.974533</td>\n",
       "    </tr>\n",
       "    <tr>\n",
       "      <th>precision</th>\n",
       "      <td>0.969071</td>\n",
       "      <td>0.967966</td>\n",
       "    </tr>\n",
       "    <tr>\n",
       "      <th>recall</th>\n",
       "      <td>0.667896</td>\n",
       "      <td>0.66729</td>\n",
       "    </tr>\n",
       "  </tbody>\n",
       "</table>\n",
       "</div>"
      ],
      "text/plain": [
       "                  Random-CV Stratified-CV\n",
       "f1                 0.790297      0.789489\n",
       "roc_auc            0.839251      0.837363\n",
       "average_precision  0.695396      0.699981\n",
       "accuracy             0.9744      0.974533\n",
       "precision          0.969071      0.967966\n",
       "recall             0.667896       0.66729"
      ]
     },
     "execution_count": 53,
     "metadata": {},
     "output_type": "execute_result"
    }
   ],
   "source": [
    "scores_df3"
   ]
  },
  {
   "cell_type": "markdown",
   "metadata": {},
   "source": [
    "# Random Forest (with balancing)"
   ]
  },
  {
   "cell_type": "code",
   "execution_count": 54,
   "metadata": {},
   "outputs": [],
   "source": [
    "scores_df4 = pd.DataFrame(index=metric_names, columns=['Random-CV', 'Stratified-CV']) # to store the scores\n",
    "clf4 = RandomForestClassifier(class_weight='balanced', oob_score = True)\n",
    "\n",
    "for metric in metric_names:\n",
    "    score1 = cross_val_score(clf4, X, y, scoring=metric, cv=cv).mean()\n",
    "    score2 = cross_val_score(clf4, X, y, scoring=metric, cv=scv).mean()\n",
    "    scores_df4.loc[metric] = [score1, score2]"
   ]
  },
  {
   "cell_type": "code",
   "execution_count": 55,
   "metadata": {},
   "outputs": [
    {
     "data": {
      "text/html": [
       "<div>\n",
       "<style scoped>\n",
       "    .dataframe tbody tr th:only-of-type {\n",
       "        vertical-align: middle;\n",
       "    }\n",
       "\n",
       "    .dataframe tbody tr th {\n",
       "        vertical-align: top;\n",
       "    }\n",
       "\n",
       "    .dataframe thead th {\n",
       "        text-align: right;\n",
       "    }\n",
       "</style>\n",
       "<table border=\"1\" class=\"dataframe\">\n",
       "  <thead>\n",
       "    <tr style=\"text-align: right;\">\n",
       "      <th></th>\n",
       "      <th>Random-CV</th>\n",
       "      <th>Stratified-CV</th>\n",
       "    </tr>\n",
       "  </thead>\n",
       "  <tbody>\n",
       "    <tr>\n",
       "      <th>f1</th>\n",
       "      <td>0.791165</td>\n",
       "      <td>0.791006</td>\n",
       "    </tr>\n",
       "    <tr>\n",
       "      <th>roc_auc</th>\n",
       "      <td>0.833493</td>\n",
       "      <td>0.834847</td>\n",
       "    </tr>\n",
       "    <tr>\n",
       "      <th>average_precision</th>\n",
       "      <td>0.70161</td>\n",
       "      <td>0.695482</td>\n",
       "    </tr>\n",
       "    <tr>\n",
       "      <th>accuracy</th>\n",
       "      <td>0.974467</td>\n",
       "      <td>0.974533</td>\n",
       "    </tr>\n",
       "    <tr>\n",
       "      <th>precision</th>\n",
       "      <td>0.967701</td>\n",
       "      <td>0.967833</td>\n",
       "    </tr>\n",
       "    <tr>\n",
       "      <th>recall</th>\n",
       "      <td>0.667896</td>\n",
       "      <td>0.668213</td>\n",
       "    </tr>\n",
       "  </tbody>\n",
       "</table>\n",
       "</div>"
      ],
      "text/plain": [
       "                  Random-CV Stratified-CV\n",
       "f1                 0.791165      0.791006\n",
       "roc_auc            0.833493      0.834847\n",
       "average_precision   0.70161      0.695482\n",
       "accuracy           0.974467      0.974533\n",
       "precision          0.967701      0.967833\n",
       "recall             0.667896      0.668213"
      ]
     },
     "execution_count": 55,
     "metadata": {},
     "output_type": "execute_result"
    }
   ],
   "source": [
    "scores_df4"
   ]
  },
  {
   "cell_type": "markdown",
   "metadata": {},
   "source": [
    "# Gradient Boosting Classifier  (without balancing)"
   ]
  },
  {
   "cell_type": "code",
   "execution_count": 61,
   "metadata": {},
   "outputs": [],
   "source": [
    "scores_df5 = pd.DataFrame(index=metric_names, columns=['Random-CV', 'Stratified-CV']) # to store the scores\n",
    "clf5 = GradientBoostingClassifier()\n",
    "\n",
    "for metric in metric_names:\n",
    "    score1 = cross_val_score(clf5, X, y, scoring=metric, cv=cv).mean()\n",
    "    score2 = cross_val_score(clf5, X, y, scoring=metric, cv=scv).mean()\n",
    "    scores_df5.loc[metric] = [score1, score2]"
   ]
  },
  {
   "cell_type": "code",
   "execution_count": 62,
   "metadata": {},
   "outputs": [
    {
     "data": {
      "text/html": [
       "<div>\n",
       "<style scoped>\n",
       "    .dataframe tbody tr th:only-of-type {\n",
       "        vertical-align: middle;\n",
       "    }\n",
       "\n",
       "    .dataframe tbody tr th {\n",
       "        vertical-align: top;\n",
       "    }\n",
       "\n",
       "    .dataframe thead th {\n",
       "        text-align: right;\n",
       "    }\n",
       "</style>\n",
       "<table border=\"1\" class=\"dataframe\">\n",
       "  <thead>\n",
       "    <tr style=\"text-align: right;\">\n",
       "      <th></th>\n",
       "      <th>Random-CV</th>\n",
       "      <th>Stratified-CV</th>\n",
       "    </tr>\n",
       "  </thead>\n",
       "  <tbody>\n",
       "    <tr>\n",
       "      <th>f1</th>\n",
       "      <td>0.765803</td>\n",
       "      <td>0.765321</td>\n",
       "    </tr>\n",
       "    <tr>\n",
       "      <th>roc_auc</th>\n",
       "      <td>0.836325</td>\n",
       "      <td>0.830744</td>\n",
       "    </tr>\n",
       "    <tr>\n",
       "      <th>average_precision</th>\n",
       "      <td>0.701678</td>\n",
       "      <td>0.702769</td>\n",
       "    </tr>\n",
       "    <tr>\n",
       "      <th>accuracy</th>\n",
       "      <td>0.970533</td>\n",
       "      <td>0.970667</td>\n",
       "    </tr>\n",
       "    <tr>\n",
       "      <th>precision</th>\n",
       "      <td>0.884769</td>\n",
       "      <td>0.898505</td>\n",
       "    </tr>\n",
       "    <tr>\n",
       "      <th>recall</th>\n",
       "      <td>0.66981</td>\n",
       "      <td>0.669139</td>\n",
       "    </tr>\n",
       "  </tbody>\n",
       "</table>\n",
       "</div>"
      ],
      "text/plain": [
       "                  Random-CV Stratified-CV\n",
       "f1                 0.765803      0.765321\n",
       "roc_auc            0.836325      0.830744\n",
       "average_precision  0.701678      0.702769\n",
       "accuracy           0.970533      0.970667\n",
       "precision          0.884769      0.898505\n",
       "recall              0.66981      0.669139"
      ]
     },
     "execution_count": 62,
     "metadata": {},
     "output_type": "execute_result"
    }
   ],
   "source": [
    "scores_df5"
   ]
  },
  {
   "cell_type": "markdown",
   "metadata": {},
   "source": [
    "# Gradient Boosting Classifier  (balancing)"
   ]
  },
  {
   "cell_type": "code",
   "execution_count": 78,
   "metadata": {},
   "outputs": [],
   "source": [
    "scores_df6 = pd.DataFrame(index=metric_names, columns=['Random-CV', 'Stratified-CV']) # to store the scores\n",
    "clf6 = GradientBoostingClassifier()\n",
    "# we cannot assign class weight to gradient boosting classifier, but we \n",
    "# can assign weight to each observation (pass weights to fit method)\n",
    "\n",
    "sample_weights = np.zeros(len(y))\n",
    "# print(sample_weights[30:40])\n",
    "# print(y)\n",
    "sample_weights[y == 0] = class_weights[0]\n",
    "sample_weights[y == 1] = class_weights[1]\n",
    "\n",
    "for metric in metric_names:\n",
    "    score1 = cross_val_score(clf6, X, y, scoring=metric, cv=cv, \n",
    "                                     fit_params  = {'sample_weight': sample_weights}).mean()\n",
    "    score2 = cross_val_score(clf6, X, y, scoring=metric, cv=scv, \n",
    "                                     fit_params = {'sample_weight': sample_weights}).mean()\n",
    "    scores_df6.loc[metric] = [score1, score2]"
   ]
  },
  {
   "cell_type": "code",
   "execution_count": 80,
   "metadata": {},
   "outputs": [
    {
     "data": {
      "text/html": [
       "<div>\n",
       "<style scoped>\n",
       "    .dataframe tbody tr th:only-of-type {\n",
       "        vertical-align: middle;\n",
       "    }\n",
       "\n",
       "    .dataframe tbody tr th {\n",
       "        vertical-align: top;\n",
       "    }\n",
       "\n",
       "    .dataframe thead th {\n",
       "        text-align: right;\n",
       "    }\n",
       "</style>\n",
       "<table border=\"1\" class=\"dataframe\">\n",
       "  <thead>\n",
       "    <tr style=\"text-align: right;\">\n",
       "      <th></th>\n",
       "      <th>Random-CV</th>\n",
       "      <th>Stratified-CV</th>\n",
       "    </tr>\n",
       "  </thead>\n",
       "  <tbody>\n",
       "    <tr>\n",
       "      <th>f1</th>\n",
       "      <td>0.782308</td>\n",
       "      <td>0.779516</td>\n",
       "    </tr>\n",
       "    <tr>\n",
       "      <th>roc_auc</th>\n",
       "      <td>0.828563</td>\n",
       "      <td>0.826315</td>\n",
       "    </tr>\n",
       "    <tr>\n",
       "      <th>average_precision</th>\n",
       "      <td>0.700718</td>\n",
       "      <td>0.698258</td>\n",
       "    </tr>\n",
       "    <tr>\n",
       "      <th>accuracy</th>\n",
       "      <td>0.973067</td>\n",
       "      <td>0.972733</td>\n",
       "    </tr>\n",
       "    <tr>\n",
       "      <th>precision</th>\n",
       "      <td>0.944219</td>\n",
       "      <td>0.933098</td>\n",
       "    </tr>\n",
       "    <tr>\n",
       "      <th>recall</th>\n",
       "      <td>0.667996</td>\n",
       "      <td>0.668213</td>\n",
       "    </tr>\n",
       "  </tbody>\n",
       "</table>\n",
       "</div>"
      ],
      "text/plain": [
       "                  Random-CV Stratified-CV\n",
       "f1                 0.782308      0.779516\n",
       "roc_auc            0.828563      0.826315\n",
       "average_precision  0.700718      0.698258\n",
       "accuracy           0.973067      0.972733\n",
       "precision          0.944219      0.933098\n",
       "recall             0.667996      0.668213"
      ]
     },
     "execution_count": 80,
     "metadata": {},
     "output_type": "execute_result"
    }
   ],
   "source": [
    "scores_df6"
   ]
  },
  {
   "cell_type": "markdown",
   "metadata": {},
   "source": [
    "# XGBoost\n",
    "\n",
    "XGBoost stands for eXtreme Gradient Boosting.\n",
    "\n",
    "Note **we will use `xgboost` library to implement this.**\n",
    "\n",
    "## Why Use XGBoost?\n",
    "The two reasons to use XGBoost are also the two goals of the project:\n",
    "\n",
    "1. Execution Speed.\n",
    "2. Model Performance.\n",
    "\n",
    "For more library details: https://xgboost.readthedocs.io/en/latest/python/python_intro.html#setting-parameters\n",
    "\n",
    "https://www.kaggle.com/stuarthallows/using-xgboost-with-scikit-learn"
   ]
  },
  {
   "cell_type": "markdown",
   "metadata": {},
   "source": [
    "# In order for XGBoost to be able to use our data, we’ll need to transform it into a specific format that XGBoost can handle. That format is called DMatrix"
   ]
  },
  {
   "cell_type": "code",
   "execution_count": 113,
   "metadata": {},
   "outputs": [
    {
     "name": "stdout",
     "output_type": "stream",
     "text": [
      "f1  0.7892873523678477\n",
      "roc auc  0.8331366812401578\n",
      "accuracy  0.9742666666666667\n",
      "precision  0.9639972978723241\n",
      "recall  0.6682132963988922\n"
     ]
    }
   ],
   "source": [
    "# train, test = scv.split(X, y)\n",
    "\n",
    "def train_predict_xgboost(param):\n",
    "    \n",
    "    f1_scores = []\n",
    "    accuracy_scores = []\n",
    "    roc_auc_scores = []\n",
    "    precision_scores = []\n",
    "    recall_scores = []\n",
    "\n",
    "    steps = 20  # The number of training iterations\n",
    "\n",
    "    for train_index, test_index in scv.split(X, y): \n",
    "        X_train, X_test = X[train_index], X[test_index]\n",
    "        y_train, y_test = y[train_index], y[test_index]\n",
    "\n",
    "        xgb_model = xgb.XGBClassifier(objective=\"binary:logistic\",\n",
    "                                        param=param, random_state=42)\n",
    "        xgb_model.fit(X_train, y_train)\n",
    "\n",
    "        y_pred = xgb_model.predict(X_test)\n",
    "\n",
    "        f1_scores.append(f1_score(y_test, y_pred))\n",
    "        accuracy_scores.append(accuracy_score(y_test, y_pred))\n",
    "        roc_auc_scores.append(roc_auc_score(y_test, y_pred))\n",
    "        precision_scores.append(precision_score(y_test, y_pred))\n",
    "        recall_scores.append(recall_score(y_test, y_pred))\n",
    "\n",
    "    print(\"f1 \", np.mean(f1_scores))\n",
    "    print(\"roc auc \", np.mean(roc_auc_scores))\n",
    "    print(\"accuracy \", np.mean(accuracy_scores))\n",
    "    print(\"precision \", np.mean(precision_scores))\n",
    "    print(\"recall \", np.mean(recall_scores))\n",
    "\n",
    "param = {\n",
    "'eta': 0.3, \n",
    "'max_depth': 10,  \n",
    "'objective': \"binary:logistic\",  \n",
    "'num_class': 2} \n",
    "\n",
    "train_predict_xgboost(param)"
   ]
  },
  {
   "cell_type": "markdown",
   "metadata": {},
   "source": [
    "# XGboost hyper-parameter searching"
   ]
  },
  {
   "cell_type": "code",
   "execution_count": 110,
   "metadata": {},
   "outputs": [
    {
     "name": "stdout",
     "output_type": "stream",
     "text": [
      "Fitting 3 folds for each of 200 candidates, totalling 600 fits\n"
     ]
    },
    {
     "name": "stderr",
     "output_type": "stream",
     "text": [
      "[Parallel(n_jobs=1)]: Using backend SequentialBackend with 1 concurrent workers.\n",
      "[Parallel(n_jobs=1)]: Done 600 out of 600 | elapsed: 16.8min finished\n"
     ]
    },
    {
     "name": "stdout",
     "output_type": "stream",
     "text": [
      "Model with rank: 1\n",
      "Mean validation score: 0.975 (std: 0.001)\n",
      "Parameters: {'colsample_bytree': 0.8835558684167137, 'gamma': 0.06974693032602092, 'learning_rate': 0.11764339456056544, 'max_depth': 5, 'n_estimators': 114, 'subsample': 0.7824279936868144}\n",
      "\n",
      "Model with rank: 1\n",
      "Mean validation score: 0.975 (std: 0.001)\n",
      "Parameters: {'colsample_bytree': 0.9040922615763338, 'gamma': 0.2252496259847715, 'learning_rate': 0.033979488347959955, 'max_depth': 2, 'n_estimators': 113, 'subsample': 0.9233589392465844}\n",
      "\n",
      "Model with rank: 1\n",
      "Mean validation score: 0.975 (std: 0.001)\n",
      "Parameters: {'colsample_bytree': 0.9486212527455787, 'gamma': 0.17837666334679464, 'learning_rate': 0.11428035290621423, 'max_depth': 5, 'n_estimators': 144, 'subsample': 0.6563696899899051}\n",
      "\n",
      "Model with rank: 1\n",
      "Mean validation score: 0.975 (std: 0.001)\n",
      "Parameters: {'colsample_bytree': 0.722213395520227, 'gamma': 0.1792328642721363, 'learning_rate': 0.06476071785753891, 'max_depth': 4, 'n_estimators': 108, 'subsample': 0.8493192507310232}\n",
      "\n",
      "Model with rank: 1\n",
      "Mean validation score: 0.975 (std: 0.001)\n",
      "Parameters: {'colsample_bytree': 0.8873062144401379, 'gamma': 0.147816842918857, 'learning_rate': 0.06164827794908118, 'max_depth': 5, 'n_estimators': 127, 'subsample': 0.6873761748867334}\n",
      "\n",
      "Model with rank: 1\n",
      "Mean validation score: 0.975 (std: 0.001)\n",
      "Parameters: {'colsample_bytree': 0.8012845514210883, 'gamma': 0.4714548519562596, 'learning_rate': 0.12696087960622657, 'max_depth': 5, 'n_estimators': 123, 'subsample': 0.881207583558071}\n",
      "\n",
      "Model with rank: 1\n",
      "Mean validation score: 0.975 (std: 0.001)\n",
      "Parameters: {'colsample_bytree': 0.7902634929450308, 'gamma': 0.1424202471887338, 'learning_rate': 0.041066084206359835, 'max_depth': 2, 'n_estimators': 101, 'subsample': 0.8010716092915446}\n",
      "\n",
      "Model with rank: 1\n",
      "Mean validation score: 0.975 (std: 0.001)\n",
      "Parameters: {'colsample_bytree': 0.7412562832437979, 'gamma': 0.17053317552512925, 'learning_rate': 0.06404205637217672, 'max_depth': 4, 'n_estimators': 130, 'subsample': 0.9509357413523924}\n",
      "\n",
      "Model with rank: 1\n",
      "Mean validation score: 0.975 (std: 0.001)\n",
      "Parameters: {'colsample_bytree': 0.7252419894985146, 'gamma': 0.08081435704730688, 'learning_rate': 0.29956625655812374, 'max_depth': 5, 'n_estimators': 134, 'subsample': 0.7489131066246972}\n",
      "\n",
      "Model with rank: 1\n",
      "Mean validation score: 0.975 (std: 0.001)\n",
      "Parameters: {'colsample_bytree': 0.7072947899294361, 'gamma': 0.3227361479535839, 'learning_rate': 0.08313320382211467, 'max_depth': 5, 'n_estimators': 129, 'subsample': 0.9815714308010349}\n",
      "\n",
      "Model with rank: 1\n",
      "Mean validation score: 0.975 (std: 0.001)\n",
      "Parameters: {'colsample_bytree': 0.9744593170661344, 'gamma': 0.1850793501277222, 'learning_rate': 0.03463698495866023, 'max_depth': 5, 'n_estimators': 128, 'subsample': 0.7712736593269257}\n",
      "\n",
      "Model with rank: 1\n",
      "Mean validation score: 0.975 (std: 0.001)\n",
      "Parameters: {'colsample_bytree': 0.780542457067047, 'gamma': 0.24263993713815785, 'learning_rate': 0.14180606012821478, 'max_depth': 3, 'n_estimators': 130, 'subsample': 0.9376852562905246}\n",
      "\n",
      "Model with rank: 1\n",
      "Mean validation score: 0.975 (std: 0.001)\n",
      "Parameters: {'colsample_bytree': 0.9790050504432495, 'gamma': 0.03520806542477195, 'learning_rate': 0.09267561528460805, 'max_depth': 4, 'n_estimators': 121, 'subsample': 0.7434587125184655}\n",
      "\n",
      "Model with rank: 1\n",
      "Mean validation score: 0.975 (std: 0.001)\n",
      "Parameters: {'colsample_bytree': 0.8834541132597041, 'gamma': 0.04079709020012018, 'learning_rate': 0.03155545883219603, 'max_depth': 5, 'n_estimators': 144, 'subsample': 0.6777095814048169}\n",
      "\n",
      "Model with rank: 1\n",
      "Mean validation score: 0.975 (std: 0.001)\n",
      "Parameters: {'colsample_bytree': 0.7212822750999782, 'gamma': 0.1983919136069442, 'learning_rate': 0.04523055931181908, 'max_depth': 4, 'n_estimators': 122, 'subsample': 0.6110467087494819}\n",
      "\n",
      "Model with rank: 1\n",
      "Mean validation score: 0.975 (std: 0.001)\n",
      "Parameters: {'colsample_bytree': 0.8371795484841185, 'gamma': 0.4210115375059907, 'learning_rate': 0.08831401019846191, 'max_depth': 3, 'n_estimators': 146, 'subsample': 0.8798048843068775}\n",
      "\n",
      "Model with rank: 1\n",
      "Mean validation score: 0.975 (std: 0.001)\n",
      "Parameters: {'colsample_bytree': 0.7719362077472209, 'gamma': 0.046936645040645875, 'learning_rate': 0.08485979913219219, 'max_depth': 2, 'n_estimators': 100, 'subsample': 0.9819461122652776}\n",
      "\n",
      "Model with rank: 1\n",
      "Mean validation score: 0.975 (std: 0.001)\n",
      "Parameters: {'colsample_bytree': 0.8067918035953784, 'gamma': 0.37892305523218456, 'learning_rate': 0.03431804658892676, 'max_depth': 3, 'n_estimators': 127, 'subsample': 0.618401056808701}\n",
      "\n",
      "Model with rank: 1\n",
      "Mean validation score: 0.975 (std: 0.001)\n",
      "Parameters: {'colsample_bytree': 0.8847550294156649, 'gamma': 0.3175468254338219, 'learning_rate': 0.04359120293161335, 'max_depth': 4, 'n_estimators': 109, 'subsample': 0.8503439662856945}\n",
      "\n",
      "Model with rank: 1\n",
      "Mean validation score: 0.975 (std: 0.001)\n",
      "Parameters: {'colsample_bytree': 0.8164509778619565, 'gamma': 0.3216441092211766, 'learning_rate': 0.167475867147455, 'max_depth': 4, 'n_estimators': 142, 'subsample': 0.97658592351061}\n",
      "\n",
      "Model with rank: 1\n",
      "Mean validation score: 0.975 (std: 0.001)\n",
      "Parameters: {'colsample_bytree': 0.7302334004132279, 'gamma': 0.009110912825774864, 'learning_rate': 0.05833288822677851, 'max_depth': 4, 'n_estimators': 122, 'subsample': 0.6284754593840916}\n",
      "\n",
      "Model with rank: 1\n",
      "Mean validation score: 0.975 (std: 0.001)\n",
      "Parameters: {'colsample_bytree': 0.7956926890881284, 'gamma': 0.4224376554847273, 'learning_rate': 0.03698158072074776, 'max_depth': 3, 'n_estimators': 140, 'subsample': 0.7984149817173625}\n",
      "\n",
      "Model with rank: 1\n",
      "Mean validation score: 0.975 (std: 0.001)\n",
      "Parameters: {'colsample_bytree': 0.9260134555776824, 'gamma': 0.18812979276545788, 'learning_rate': 0.055050215009600625, 'max_depth': 2, 'n_estimators': 143, 'subsample': 0.8233616998943221}\n",
      "\n",
      "Model with rank: 1\n",
      "Mean validation score: 0.975 (std: 0.001)\n",
      "Parameters: {'colsample_bytree': 0.8272666027740928, 'gamma': 0.453177192547368, 'learning_rate': 0.0633592446918454, 'max_depth': 4, 'n_estimators': 144, 'subsample': 0.6045414579069676}\n",
      "\n",
      "Model with rank: 1\n",
      "Mean validation score: 0.975 (std: 0.001)\n",
      "Parameters: {'colsample_bytree': 0.8405981925982379, 'gamma': 0.028151637840918675, 'learning_rate': 0.06564537488042158, 'max_depth': 2, 'n_estimators': 140, 'subsample': 0.8976846627773192}\n",
      "\n",
      "Model with rank: 1\n",
      "Mean validation score: 0.975 (std: 0.001)\n",
      "Parameters: {'colsample_bytree': 0.9086233369319943, 'gamma': 0.03771727354488463, 'learning_rate': 0.07986462957277587, 'max_depth': 2, 'n_estimators': 113, 'subsample': 0.717797578735772}\n",
      "\n",
      "Model with rank: 1\n",
      "Mean validation score: 0.975 (std: 0.001)\n",
      "Parameters: {'colsample_bytree': 0.8940545085006171, 'gamma': 0.1941341919949361, 'learning_rate': 0.0988184237114849, 'max_depth': 5, 'n_estimators': 127, 'subsample': 0.7441380380821073}\n",
      "\n",
      "Model with rank: 1\n",
      "Mean validation score: 0.975 (std: 0.001)\n",
      "Parameters: {'colsample_bytree': 0.7779849588562787, 'gamma': 0.22662042341441552, 'learning_rate': 0.03969478533289514, 'max_depth': 2, 'n_estimators': 132, 'subsample': 0.7644826883488745}\n",
      "\n",
      "Model with rank: 1\n",
      "Mean validation score: 0.975 (std: 0.001)\n",
      "Parameters: {'colsample_bytree': 0.7135656010318567, 'gamma': 0.013183487248626002, 'learning_rate': 0.14293901006341486, 'max_depth': 2, 'n_estimators': 117, 'subsample': 0.9949104517259778}\n",
      "\n",
      "Model with rank: 1\n",
      "Mean validation score: 0.975 (std: 0.001)\n",
      "Parameters: {'colsample_bytree': 0.7190535488770003, 'gamma': 0.01841093381799569, 'learning_rate': 0.07015563564018995, 'max_depth': 2, 'n_estimators': 147, 'subsample': 0.6301436241409849}\n",
      "\n",
      "Model with rank: 1\n",
      "Mean validation score: 0.975 (std: 0.001)\n",
      "Parameters: {'colsample_bytree': 0.7386639165731947, 'gamma': 0.06402291947888622, 'learning_rate': 0.0755708080536883, 'max_depth': 3, 'n_estimators': 115, 'subsample': 0.8563498979212858}\n",
      "\n",
      "Model with rank: 1\n",
      "Mean validation score: 0.975 (std: 0.001)\n",
      "Parameters: {'colsample_bytree': 0.7516959613604889, 'gamma': 0.09614450940433539, 'learning_rate': 0.042260584879943656, 'max_depth': 2, 'n_estimators': 117, 'subsample': 0.7114361356127834}\n",
      "\n",
      "Model with rank: 1\n",
      "Mean validation score: 0.975 (std: 0.001)\n",
      "Parameters: {'colsample_bytree': 0.753103145283024, 'gamma': 0.044351266878527806, 'learning_rate': 0.06619076133018023, 'max_depth': 2, 'n_estimators': 111, 'subsample': 0.682533487362317}\n",
      "\n",
      "Model with rank: 1\n",
      "Mean validation score: 0.975 (std: 0.001)\n",
      "Parameters: {'colsample_bytree': 0.8092809583144226, 'gamma': 0.25170863542742844, 'learning_rate': 0.2371184485888096, 'max_depth': 2, 'n_estimators': 125, 'subsample': 0.919764159563617}\n",
      "\n",
      "Model with rank: 1\n",
      "Mean validation score: 0.975 (std: 0.001)\n",
      "Parameters: {'colsample_bytree': 0.9367513715822015, 'gamma': 0.24922109946452864, 'learning_rate': 0.056076086426227106, 'max_depth': 4, 'n_estimators': 121, 'subsample': 0.8347364472083516}\n",
      "\n",
      "Model with rank: 1\n",
      "Mean validation score: 0.975 (std: 0.001)\n",
      "Parameters: {'colsample_bytree': 0.9236318422552989, 'gamma': 0.2158297731148397, 'learning_rate': 0.06827409083866912, 'max_depth': 2, 'n_estimators': 136, 'subsample': 0.7452329185594541}\n",
      "\n",
      "Model with rank: 1\n",
      "Mean validation score: 0.975 (std: 0.001)\n",
      "Parameters: {'colsample_bytree': 0.7711680375207983, 'gamma': 0.05089123631020187, 'learning_rate': 0.07585774175529961, 'max_depth': 4, 'n_estimators': 147, 'subsample': 0.6642725493038223}\n",
      "\n",
      "Model with rank: 1\n",
      "Mean validation score: 0.975 (std: 0.001)\n",
      "Parameters: {'colsample_bytree': 0.7559701072153917, 'gamma': 0.14254758434692355, 'learning_rate': 0.08201207858842643, 'max_depth': 4, 'n_estimators': 108, 'subsample': 0.6320934982646569}\n",
      "\n",
      "Model with rank: 1\n",
      "Mean validation score: 0.975 (std: 0.001)\n",
      "Parameters: {'colsample_bytree': 0.9164789652253831, 'gamma': 0.024047321982043846, 'learning_rate': 0.2644543445254245, 'max_depth': 4, 'n_estimators': 140, 'subsample': 0.9002007699061254}\n",
      "\n",
      "Model with rank: 1\n",
      "Mean validation score: 0.975 (std: 0.001)\n",
      "Parameters: {'colsample_bytree': 0.9735557226528894, 'gamma': 0.06955809707153093, 'learning_rate': 0.06023838090476595, 'max_depth': 2, 'n_estimators': 146, 'subsample': 0.8904382344249603}\n",
      "\n",
      "Model with rank: 1\n",
      "Mean validation score: 0.975 (std: 0.001)\n",
      "Parameters: {'colsample_bytree': 0.8137917095156646, 'gamma': 0.3721248259216444, 'learning_rate': 0.09167394251269124, 'max_depth': 2, 'n_estimators': 125, 'subsample': 0.7333996686764577}\n",
      "\n",
      "Model with rank: 1\n",
      "Mean validation score: 0.975 (std: 0.001)\n",
      "Parameters: {'colsample_bytree': 0.9212503744329245, 'gamma': 0.22610897044490358, 'learning_rate': 0.09738144688199458, 'max_depth': 5, 'n_estimators': 123, 'subsample': 0.8310527816366189}\n",
      "\n",
      "Model with rank: 1\n",
      "Mean validation score: 0.975 (std: 0.001)\n",
      "Parameters: {'colsample_bytree': 0.7039283369765, 'gamma': 0.3317686860083553, 'learning_rate': 0.08341079006092542, 'max_depth': 5, 'n_estimators': 140, 'subsample': 0.6594650911012452}\n",
      "\n",
      "Model with rank: 1\n",
      "Mean validation score: 0.975 (std: 0.001)\n",
      "Parameters: {'colsample_bytree': 0.9296068843198722, 'gamma': 0.05149073966565776, 'learning_rate': 0.13030884339314464, 'max_depth': 4, 'n_estimators': 138, 'subsample': 0.9012984882989803}\n",
      "\n",
      "Model with rank: 1\n",
      "Mean validation score: 0.975 (std: 0.001)\n",
      "Parameters: {'colsample_bytree': 0.9015678230796185, 'gamma': 0.009855268877182077, 'learning_rate': 0.06123257459537215, 'max_depth': 4, 'n_estimators': 136, 'subsample': 0.6714178648217334}\n",
      "\n",
      "Model with rank: 1\n",
      "Mean validation score: 0.975 (std: 0.001)\n",
      "Parameters: {'colsample_bytree': 0.8958238323555624, 'gamma': 0.11909139052336326, 'learning_rate': 0.05983241782780355, 'max_depth': 5, 'n_estimators': 123, 'subsample': 0.8889067727422637}\n",
      "\n",
      "Model with rank: 1\n",
      "Mean validation score: 0.975 (std: 0.001)\n",
      "Parameters: {'colsample_bytree': 0.9567089404318856, 'gamma': 0.4151099322834958, 'learning_rate': 0.14915505888553643, 'max_depth': 2, 'n_estimators': 120, 'subsample': 0.7625569233094088}\n",
      "\n",
      "Model with rank: 1\n",
      "Mean validation score: 0.975 (std: 0.001)\n",
      "Parameters: {'colsample_bytree': 0.7658531575242875, 'gamma': 0.48727363259943496, 'learning_rate': 0.26392763243640927, 'max_depth': 2, 'n_estimators': 109, 'subsample': 0.8263106479866242}\n",
      "\n",
      "Model with rank: 1\n",
      "Mean validation score: 0.975 (std: 0.001)\n",
      "Parameters: {'colsample_bytree': 0.7809733667176584, 'gamma': 0.2699213894540967, 'learning_rate': 0.07860416336747539, 'max_depth': 5, 'n_estimators': 142, 'subsample': 0.938563139725823}\n",
      "\n",
      "Model with rank: 1\n",
      "Mean validation score: 0.975 (std: 0.001)\n",
      "Parameters: {'colsample_bytree': 0.9116725517547065, 'gamma': 0.4626241587078329, 'learning_rate': 0.08417260353820005, 'max_depth': 2, 'n_estimators': 121, 'subsample': 0.9661953190352167}\n",
      "\n",
      "Model with rank: 1\n",
      "Mean validation score: 0.975 (std: 0.001)\n",
      "Parameters: {'colsample_bytree': 0.7101837935757396, 'gamma': 0.34871013362341996, 'learning_rate': 0.11920470221176523, 'max_depth': 5, 'n_estimators': 107, 'subsample': 0.9884232980661471}\n",
      "\n"
     ]
    }
   ],
   "source": [
    "def report_best_scores(results, n_top=3):\n",
    "    for i in range(1, n_top + 1):\n",
    "        candidates = np.flatnonzero(results['rank_test_score'] == i)\n",
    "        for candidate in candidates:\n",
    "            print(\"Model with rank: {0}\".format(i))\n",
    "            print(\"Mean validation score: {0:.3f} (std: {1:.3f})\".format(\n",
    "                  results['mean_test_score'][candidate],\n",
    "                  results['std_test_score'][candidate]))\n",
    "            print(\"Parameters: {0}\".format(results['params'][candidate]))\n",
    "            print(\"\")\n",
    "\n",
    "params = {\n",
    "    \"colsample_bytree\": uniform(0.7, 0.3),\n",
    "    \"gamma\": uniform(0, 0.5),\n",
    "    \"learning_rate\": uniform(0.03, 0.3), # default 0.1 \n",
    "    \"max_depth\": randint(2, 6), # default 3\n",
    "    \"n_estimators\": randint(100, 150), # default 100\n",
    "    \"subsample\": uniform(0.6, 0.4)\n",
    "}\n",
    "xgb_model = xgb.XGBClassifier(objective=\"binary:logistic\", eval_metric=\"auc\")\n",
    "\n",
    "search = RandomizedSearchCV(xgb_model, param_distributions=params, random_state=42, n_iter=200, cv=3, verbose=1, n_jobs=1, return_train_score=True)\n",
    "\n",
    "search.fit(X, y)\n",
    "report_best_scores(search.cv_results_, 1)\n"
   ]
  },
  {
   "cell_type": "code",
   "execution_count": 112,
   "metadata": {},
   "outputs": [
    {
     "name": "stdout",
     "output_type": "stream",
     "text": [
      "f1  0.7892873523678477\n",
      "roc auc  0.8331366812401578\n",
      "accuracy  0.9742666666666667\n",
      "precision  0.9639972978723241\n",
      "recall  0.6682132963988922\n"
     ]
    }
   ],
   "source": [
    "# op\n",
    "params = {'colsample_bytree': 0.7101837935757396, \n",
    "             'gamma': 0.34871013362341996, \n",
    "             'learning_rate': 0.11920470221176523, \n",
    "                 'max_depth': 5, \n",
    "             'n_estimators': 107, \n",
    "             'subsample': 0.9884232980661471}\n",
    "\n",
    "train_predict_xgboost(params)"
   ]
  },
  {
   "cell_type": "code",
   "execution_count": 115,
   "metadata": {},
   "outputs": [
    {
     "data": {
      "text/plain": [
       "XGBClassifier(base_score=None, booster=None, colsample_bylevel=None,\n",
       "              colsample_bynode=None, colsample_bytree=None, gamma=None,\n",
       "              gpu_id=None, importance_type='gain', interaction_constraints=None,\n",
       "              learning_rate=None, max_delta_step=None, max_depth=None,\n",
       "              min_child_weight=None, missing=nan, monotone_constraints=None,\n",
       "              n_estimators=100, n_jobs=None, num_parallel_tree=None,\n",
       "              objective='binary:logistic', random_state=None, reg_alpha=None,\n",
       "              reg_lambda=None, scale_pos_weight=None, subsample=None,\n",
       "              tree_method=None, validate_parameters=False, verbosity=None)"
      ]
     },
     "execution_count": 115,
     "metadata": {},
     "output_type": "execute_result"
    }
   ],
   "source": [
    "xgb.XGBClassifier()"
   ]
  }
 ],
 "metadata": {
  "kernelspec": {
   "display_name": "kaggle-comp",
   "language": "python",
   "name": "kaggle-comp"
  },
  "language_info": {
   "codemirror_mode": {
    "name": "ipython",
    "version": 3
   },
   "file_extension": ".py",
   "mimetype": "text/x-python",
   "name": "python",
   "nbconvert_exporter": "python",
   "pygments_lexer": "ipython3",
   "version": "3.6.9"
  }
 },
 "nbformat": 4,
 "nbformat_minor": 2
}
